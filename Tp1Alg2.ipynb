{
  "nbformat": 4,
  "nbformat_minor": 0,
  "metadata": {
    "colab": {
      "provenance": [],
      "history_visible": true
    },
    "kernelspec": {
      "name": "python3",
      "display_name": "Python 3"
    },
    "language_info": {
      "name": "python"
    }
  },
  "cells": [
    {
      "cell_type": "markdown",
      "source": [
        "# Trabalho Prático #1"
      ],
      "metadata": {
        "id": "Xi2RLR9O8ggm"
      }
    },
    {
      "cell_type": "markdown",
      "source": [
        "**Grupo:**\n",
        "\n",
        "- Lucas Jacone da Silva - 2019006922\n",
        "\n",
        "- Filipe Rodrigues Batista de Oliveira - 2018055091\n",
        "\n",
        "- Matheus Flávio Gonçalves Silva - 2020006850"
      ],
      "metadata": {
        "id": "c1UUuCpy8nwK"
      }
    },
    {
      "cell_type": "code",
      "source": [
        "from functools import cmp_to_key\n",
        "import matplotlib.pyplot as plt\n",
        "import numpy as np"
      ],
      "metadata": {
        "id": "BbhP5BxP8mPU"
      },
      "execution_count": 217,
      "outputs": []
    },
    {
      "cell_type": "markdown",
      "source": [
        "## ***Implementação***"
      ],
      "metadata": {
        "id": "Nv-LbqC7BRWT"
      }
    },
    {
      "cell_type": "markdown",
      "source": [
        "Por Python ser uma linguagem bem expressiva o código abaixo ficou muito parecido com os pseudo-códigos consultados no livro *Introduction of Algorithms - Cormen et al*."
      ],
      "metadata": {
        "id": "CCu7QML217Ql"
      }
    },
    {
      "cell_type": "markdown",
      "source": [
        "## Parte I"
      ],
      "metadata": {
        "id": "tOIfnf3U8y9L"
      }
    },
    {
      "cell_type": "code",
      "source": [
        "class Ponto:\n",
        "  \"\"\" Ponto de duas dimensões \"\"\"\n",
        "\n",
        "  def __init__(self, x, y):\n",
        "    self.x = x\n",
        "    self.y = y\n",
        "\n",
        "  # Overload do operador - para subtração entre pontos\n",
        "  def __sub__(self, p2):\n",
        "    return Ponto(self.x - p2.x, self.y - p2.y)"
      ],
      "metadata": {
        "id": "oVBkZhcl81vi"
      },
      "execution_count": 218,
      "outputs": []
    },
    {
      "cell_type": "code",
      "source": [
        "def distancia(p1, p2):\n",
        "  \"\"\" Retorna o quadrado da distância entre dois pontos \"\"\"\n",
        "\n",
        "  return (p1.x - p2.x) ** 2 + (p1.y - p2.y) ** 2"
      ],
      "metadata": {
        "id": "FJafX81W85cE"
      },
      "execution_count": 219,
      "outputs": []
    },
    {
      "cell_type": "code",
      "source": [
        "def produtoVetorial(p0, p1, p2):\n",
        "  \"\"\" Retorna o ponto da terceira dimensão de um produto vetorial\n",
        "     entre dois pontos \"\"\"\n",
        "\n",
        "  return (p1.x - p0.x) * (p2.y - p0.y) - (p2.x - p0.x) * (p1.y - p0.y)"
      ],
      "metadata": {
        "id": "3nqzI17J8740"
      },
      "execution_count": 220,
      "outputs": []
    },
    {
      "cell_type": "markdown",
      "source": [
        "Para descobrir o sentido que o segmento p0p2 estaria de p0p1 nós fazemos o cálculo do produto vetorial, e caso os segmentos sejam colineares (pv = 0), então temos que encontrar qual o ponto mais distante dentre os dois, já que o ponto mais perto invariavelmente estará dentro da envoltória."
      ],
      "metadata": {
        "id": "HK6VY5zf6S5A"
      }
    },
    {
      "cell_type": "code",
      "source": [
        "def comparaSentido(p1, p2):\n",
        "  \"\"\" Função de comparação para ordenar os pontos quanto ao ângulo polar\n",
        " em relação a 'p0' utilizando o produto vetorial \"\"\"\n",
        "\n",
        "  pv = produtoVetorial(p0, p1, p2)\n",
        "\n",
        "  if pv == 0:\n",
        "    return 1 if distancia(p0, p1) > distancia(p0, p2) else -1\n",
        "\n",
        "  return -1 if pv > 0 else 1"
      ],
      "metadata": {
        "id": "6s2iaL3187_e"
      },
      "execution_count": 221,
      "outputs": []
    },
    {
      "cell_type": "markdown",
      "source": [
        "Embora tenham sido vistos em sala de aula mais dois algoritmos que resolvessem o mesmo problema com a mesma complexidade de tempo $O(n \\log n)$: Algoritmo incremental e o Algoritmo dividir para conquistar, optou-se por implementar a Varredura de Graham (presente na função \"envoltoriaConvexa\"), pois os autores pensaram que esta fosse mais fácil de se implementar do que as outras.\n"
      ],
      "metadata": {
        "id": "k2-h7x7bpVGX"
      }
    },
    {
      "cell_type": "code",
      "source": [
        "def envoltoriaConvexa(pontos):\n",
        "  \"\"\" Dado como entrada uma lista de ´pontos´ retorna a lista de pontos\n",
        " pertencentes à mesma envoltória convexa \"\"\"\n",
        "\n",
        "  # Checa se há pontos suficientes para formar uma envoltória\n",
        "  quantidade = len(pontos)\n",
        "  if quantidade < 3:\n",
        "    return []\n",
        "\n",
        "  # Define p0 como o ponto com menor 'y' desempatado pelo menor 'x'\n",
        "  pontos.sort(key=lambda p: (p.y, p.x))\n",
        "\n",
        "  envoltoria = []\n",
        "  global p0\n",
        "  p0 = pontos[0]\n",
        "  envoltoria.append(p0)\n",
        "\n",
        "  # Ordena os outros pontos de acordo com seu ângulo polar em relação a p0\n",
        "  # Como já havia sido ordenado anteriormente com relação a y e x, pontos\n",
        "  # colineares estão ordenados crescentemente em relação à distância\n",
        "  pontos[1:] = sorted(pontos[1:], key = cmp_to_key(comparaSentido))\n",
        "\n",
        "  # Cria uma nova lista sem pontos colineares em relação a p0\n",
        "  # (mantém o mais distante)\n",
        "  pontos_validos = [p0, pontos[1]]\n",
        "  for i in range(2, quantidade):\n",
        "    if produtoVetorial(p0, pontos[i], pontos[i-1]) == 0:\n",
        "      pontos_validos[-1]=pontos[i]\n",
        "    else:\n",
        "      pontos_validos.append(pontos[i])\n",
        "\n",
        "  # Checa se há pontos suficientes para formar uma envoltória\n",
        "  if len(pontos_validos) < 3:\n",
        "    return []\n",
        "\n",
        "  # Constrói uma envoltória inicial com os primeiros 3 pontos sem\n",
        "  # colinearidade\n",
        "  envoltoria.append(pontos_validos[1])\n",
        "  envoltoria.append(pontos_validos[2])\n",
        "\n",
        "  # Adiciona os pontos restantes na envoltória, checando a consistência da\n",
        "  # convexidade\n",
        "  for p in pontos_validos[3:]:\n",
        "    while(produtoVetorial(envoltoria[-2], envoltoria[-1], p) < 0):\n",
        "      envoltoria.pop(-1)\n",
        "    envoltoria.append(p)\n",
        "\n",
        "  return envoltoria"
      ],
      "metadata": {
        "id": "dibhFKag88Gm"
      },
      "execution_count": 222,
      "outputs": []
    },
    {
      "cell_type": "markdown",
      "source": [
        "## Parte II"
      ],
      "metadata": {
        "id": "9TYI-Dyw9DSY"
      }
    },
    {
      "cell_type": "markdown",
      "source": [
        "Aqui, cabe explicar a lógica utilizada para fazer a sobrecarga do operador '<' (que será utilizado para fazer comparar segmentos adjacentes no algoritmo de varredura): Sendo que os critérios usados para definir a ordem são (da maior prioridade para a menor):\n",
        "\n",
        "1 - Ponto do início do segmento (pontos da esquerda) está mais abaixo (menor coordenada y);\n",
        "\n",
        "2 - Pontos do início do segmento são os mais à esquerda;\n",
        "\n",
        "3 - Ponto do final do segmento está mais abaixo;\n",
        "\n",
        "4 - Ponto do final do segmento está mais à esquerda;\n",
        "\n",
        "Veja que para usar a quarta condição (como desempate) nós estamos no caso limite, ou seja, se dois segmentos são colineares."
      ],
      "metadata": {
        "id": "VcOJZru1Q6iW"
      }
    },
    {
      "cell_type": "code",
      "source": [
        "class Segmento:\n",
        "  \"\"\" Segmento formado entre dois pontos, sendo que 'esquerda' é o ponto\n",
        "   de menor x \"\"\"\n",
        "\n",
        "  def __init__(self, esquerda, direita):\n",
        "    self.esquerda = esquerda\n",
        "    self.direita = direita\n",
        "\n",
        "  def __lt__(self, e2):\n",
        "    \"\"\" Overload do operador '<' para encontrar a posição relativa entre segmentos\n",
        "        ativos na varredura \"\"\"\n",
        "\n",
        "    if self.esquerda.y == e2.esquerda.y:\n",
        "      if self.esquerda.x == e2.esquerda.x:\n",
        "        if self.direita.y == e2.direita.y:\n",
        "          return self.direita.x < e2.direita.x\n",
        "        return self.direita.y < e2.direita.y\n",
        "      return self.esquerda.x < e2.esquerda.x\n",
        "    return self.esquerda.y < e2.esquerda.y"
      ],
      "metadata": {
        "id": "len8kMpI88J2"
      },
      "execution_count": 223,
      "outputs": []
    },
    {
      "cell_type": "markdown",
      "source": [
        "Na sobrecarga do operador '<' da classe Evento (pontos encontrados pela reta de varredura) implementamos a lógica para inserir os eventos na varredura, ou seja, buscamos o ponto mais a esquerda (com menor coordenada x) primeiro, caso haja empate buscamos o ponto mais abaixo (com menor coordenada y)."
      ],
      "metadata": {
        "id": "C7sMlF1WfG_Y"
      }
    },
    {
      "cell_type": "code",
      "source": [
        "class Evento:\n",
        "  \"\"\" Os pontos de inserção ou remoção de um segmento na varredura linear \"\"\"\n",
        "\n",
        "  def __init__(self, x, y, isLeft, s, classe):\n",
        "    self.x = x\n",
        "    self.y = y\n",
        "    self.isLeft = isLeft\n",
        "    self.s = s\n",
        "    self.classe = classe\n",
        "\n",
        "  def __lt__(self, e2):\n",
        "    \"\"\" Overload do operador '<' para encontrar a ordem que os eventos devem ser\n",
        "        inseridos na varredura \"\"\"\n",
        "\n",
        "    if self.x == e2.x:\n",
        "      if self.isLeft == e2.isLeft:\n",
        "        return self.y < e2.y\n",
        "      return self.isLeft\n",
        "    return self.x < e2.x"
      ],
      "metadata": {
        "id": "79eHOvwC88Mi"
      },
      "execution_count": 224,
      "outputs": []
    },
    {
      "cell_type": "code",
      "source": [
        "def noSegmento(p1, p3, p2):\n",
        "  \"\"\" Checa se um ponto 'p2' está sobre o segmento 'p1p3' \"\"\"\n",
        "\n",
        "  return (p2.x <= max(p1.x, p3.x) and p2.x >= min(p1.x, p3.x) and\n",
        "          p2.y <= max(p1.y, p3.y) and p2.y >= min(p1.y, p3.y))"
      ],
      "metadata": {
        "id": "aBwUxojX9LAG"
      },
      "execution_count": 225,
      "outputs": []
    },
    {
      "cell_type": "markdown",
      "source": [
        "Aqui nós implementamos o algoritmo para verificar se existe interseção entre dois segmentos, usando as primitivas implementadas em células anteriores como suporte."
      ],
      "metadata": {
        "id": "NT65VSSF-JbI"
      }
    },
    {
      "cell_type": "code",
      "source": [
        "def segmentosIntersectam(s1, s2):\n",
        "  \"\"\" Checa se dois segmentos 's1' e 's2' se interceptam \"\"\"\n",
        "\n",
        "  p1 = s1.esquerda\n",
        "  p2 = s1.direita\n",
        "  p3 = s2.esquerda\n",
        "  p4 = s2.direita\n",
        "\n",
        "  pv1 = produtoVetorial(p3, p4, p1)\n",
        "  pv2 = produtoVetorial(p3, p4, p2)\n",
        "  pv3 = produtoVetorial(p1, p2, p3)\n",
        "  pv4 = produtoVetorial(p1, p2, p4)\n",
        "\n",
        "  # Checa se os segmentos formam um \"X\"\n",
        "  if ((pv1>0 and pv2<0 or pv1<0 and pv2>0) and\n",
        "      (pv3>0 and pv4<0 or pv3<0 and pv4>0)):\n",
        "    return True\n",
        "\n",
        "  # Checa se um dos pontos de um segmento está sobre outro segmento\n",
        "  if pv1 == 0 and noSegmento(p3, p4, p1):\n",
        "    return True\n",
        "  if pv2 == 0 and noSegmento(p3, p4, p2):\n",
        "    return True\n",
        "  if pv3 == 0 and noSegmento(p1, p2, p3):\n",
        "    return True\n",
        "  if pv4 == 0 and noSegmento(p1, p2, p4):\n",
        "    return True\n",
        "\n",
        "  return False"
      ],
      "metadata": {
        "id": "XIZCtPgL9LCs"
      },
      "execution_count": 226,
      "outputs": []
    },
    {
      "cell_type": "code",
      "source": [
        "def lowerBound(varredura, e):\n",
        "  \"\"\" Encontra o índice do primeiro evento na varredura que não é menor\n",
        "      que 'e' \"\"\"\n",
        "\n",
        "  ini = 0\n",
        "  fim = len(varredura) - 1\n",
        "\n",
        "  while(ini < fim):\n",
        "    meio = (ini + fim) // 2\n",
        "\n",
        "    if varredura[meio].s < e.s:\n",
        "      ini = meio + 1\n",
        "    else:\n",
        "      fim = meio\n",
        "\n",
        "  return ini"
      ],
      "metadata": {
        "id": "4DB1aCOs9LFa"
      },
      "execution_count": 227,
      "outputs": []
    },
    {
      "cell_type": "code",
      "source": [
        "def upperBound(varredura, e):\n",
        "  \"\"\" Encontra o índice do último evento na varredura que não é maior\n",
        "       que 'e' \"\"\"\n",
        "\n",
        "  ini = 0\n",
        "  fim = len(varredura) - 1\n",
        "\n",
        "  while(ini < fim):\n",
        "    meio = (ini + fim) // 2\n",
        "\n",
        "    if varredura[meio].s > e.s:\n",
        "      fim = meio\n",
        "    else:\n",
        "      ini = meio + 1\n",
        "\n",
        "  return ini"
      ],
      "metadata": {
        "id": "d25eVCwM9SDh"
      },
      "execution_count": 228,
      "outputs": []
    },
    {
      "cell_type": "code",
      "source": [
        "def inserirEvento(varredura, e):\n",
        "  \"\"\" Insere um evento 'e' na varredura \"\"\"\n",
        "\n",
        "  # Checa se a varredura está vazia\n",
        "  if len(varredura) == 0:\n",
        "      varredura.insert(0, e)\n",
        "\n",
        "  # Checa se o evento deve ser o primeiro ou segundo da varredura\n",
        "  elif lowerBound(varredura, e) == 0 and varredura[0].s > e.s:\n",
        "      varredura.insert(0, e)\n",
        "  else:\n",
        "    varredura.insert(lowerBound(varredura, e) + 1, e)\n",
        "\n",
        "  return"
      ],
      "metadata": {
        "id": "p5w_eaTK9SGE"
      },
      "execution_count": 229,
      "outputs": []
    },
    {
      "cell_type": "code",
      "source": [
        "def removerEvento(varredura, e):\n",
        "  \"\"\" Remove um evento na varredura \"\"\"\n",
        "\n",
        "  # Encontra o evento correspondente à extremidade da esquerda do evento 'e' que\n",
        "  # foi inserido, tendo em vista que o evento 'e' é a extremidade da direita de\n",
        "  # um segmento\n",
        "  inserido = Evento(e.s.esquerda.x, e.s.esquerda.y, 1, e.s, e.classe)\n",
        "\n",
        "  # Deleta esse evento\n",
        "  del varredura[lowerBound(varredura, inserido)]\n",
        "  return"
      ],
      "metadata": {
        "id": "thbjq4f-9SI3"
      },
      "execution_count": 230,
      "outputs": []
    },
    {
      "cell_type": "code",
      "source": [
        "def eventoAnterior(varredura, e):\n",
        "  \"\"\" Encontra o evento na varredura logo abaixo de um evento 'e' \"\"\"\n",
        "\n",
        "  # Checa se a varredura está vazia\n",
        "  if len(varredura) == 0:\n",
        "    return None\n",
        "\n",
        "  # Encontra o possível índice do evento anterior\n",
        "  indice = lowerBound(varredura, e)\n",
        "\n",
        "  # Checa se esse evento anterior existe\n",
        "  if indice == 0 and varredura[0] == e:\n",
        "    return None\n",
        "\n",
        "  return varredura[indice]"
      ],
      "metadata": {
        "id": "RqpZrEnX9ZQ5"
      },
      "execution_count": 231,
      "outputs": []
    },
    {
      "cell_type": "code",
      "source": [
        "def eventoPosterior(varredura, e):\n",
        "  \"\"\" Encontra o evento na varredura logo acima de um evento 'e' \"\"\"\n",
        "\n",
        "  # Checa se a varredura está vazia\n",
        "  if len(varredura) == 0:\n",
        "    return None\n",
        "\n",
        "  # Encontra o possível índice do evento posterior\n",
        "  indice = upperBound(varredura, e)\n",
        "\n",
        "  # Checa se esse evento posterior existe\n",
        "  if indice == len(varredura)-1:\n",
        "    return None\n",
        "\n",
        "  return varredura[indice+1]"
      ],
      "metadata": {
        "id": "w5sON87O9ZTq"
      },
      "execution_count": 232,
      "outputs": []
    },
    {
      "cell_type": "code",
      "source": [
        "def segmentosDaEnvoltoria(env):\n",
        "  \"\"\" Encontra quais segmentos compoem uma envoltória a partir da ordem\n",
        "  de seus vértices \"\"\"\n",
        "\n",
        "  segmentos = []\n",
        "\n",
        "  # Segmento entre o primeiro e o último ponto da envoltória\n",
        "  p1 = env[0]\n",
        "  p2 = env[-1]\n",
        "\n",
        "  # Verifica qual ponto do segmento deve ser 'esquerda' e qual 'direita'\n",
        "  if p1.x < p2.x:\n",
        "    segmentos.append(Segmento(p1, p2))\n",
        "  else:\n",
        "    segmentos.append(Segmento(p2, p1))\n",
        "\n",
        "  # Repete para todo par de vértices consecutivos\n",
        "  for i in range(1, len(env)):\n",
        "    p1 = env[i]\n",
        "    p2 = env[i-1]\n",
        "\n",
        "    # Verifica qual ponto do segmento deve ser 'esquerda' e qual 'direita'\n",
        "    if p1.x < p2.x:\n",
        "      segmentos.append(Segmento(p1, p2))\n",
        "    else:\n",
        "      segmentos.append(Segmento(p2, p1))\n",
        "\n",
        "  return segmentos"
      ],
      "metadata": {
        "id": "8hpHMibW9ZWQ"
      },
      "execution_count": 233,
      "outputs": []
    },
    {
      "cell_type": "code",
      "source": [
        "def criarEventos(segmentos1, segmentos2):\n",
        "  \"\"\" Encontra a ordem em que os segmentos de duas envoltórias devem ser\n",
        "      inseridos ou removidos da varredura \"\"\"\n",
        "\n",
        "  eventos = []\n",
        "\n",
        "  # Repete para todo segmento na envoltória 1\n",
        "  for seg in segmentos1:\n",
        "\n",
        "    # Cria o evento de inserção do segmento\n",
        "    e1 = Evento(seg.esquerda.x, seg.esquerda.y, 1, seg, 1)\n",
        "    eventos.append(e1)\n",
        "\n",
        "    # Cria o evento de remoção do segmento\n",
        "    e2 = Evento(seg.direita.x, seg.direita.y, 0, seg, 1)\n",
        "    eventos.append(e2)\n",
        "\n",
        "  # Repete para todo segmento na envoltória 2\n",
        "  for seg in segmentos2:\n",
        "\n",
        "    # Cria o evento de inserção do segmento\n",
        "    e1 = Evento(seg.esquerda.x, seg.esquerda.y, 1, seg, 2)\n",
        "    eventos.append(e1)\n",
        "\n",
        "    # Cria o evento de inserção do segmento\n",
        "    e2 = Evento(seg.direita.x, seg.direita.y, 0, seg, 2)\n",
        "    eventos.append(e2)\n",
        "\n",
        "  # Ordena os eventos utilizando o operador sobrecarregado '<'\n",
        "  return sorted(eventos)"
      ],
      "metadata": {
        "id": "HxXJrreh9hm9"
      },
      "execution_count": 234,
      "outputs": []
    },
    {
      "cell_type": "markdown",
      "source": [
        "Para a verificação da separabilidade linear, foi utilizada a detecção de interseções em um conjunto de segmentos por meio de uma varredura linear que compara um segmento apenas com os segmentos diretamente superiores e inferiores ao inserí-lo na varredura e compara os segmentos diretamente superiores e inferiores entre si ao remover um segmento.\n",
        "\n",
        "Há uma modificação que determina que ao tentar comparar dois segmentos de uma mesma envoltória, essa comparação é ignorada e é feita outra comparação entre o próximo par tal que os dois segmentos pertencem a envoltórias diferentes. Essa implementação está na função \"intersecaoEmConjuntos\", que retorna True se há interseção entre as envoltórias e, portanto, não é possível fazer uma separação linear, e retorna False caso contrário."
      ],
      "metadata": {
        "id": "7Qo16Mg63giK"
      }
    },
    {
      "cell_type": "code",
      "source": [
        "def intersecaoEmConjunto(eventos):\n",
        "  \"\"\" Função que retorna se houve ou não interseção entre os lados de duas\n",
        "      envoltórias convexas \"\"\"\n",
        "  varredura = []\n",
        "\n",
        "  # Repete para cada evento de inserção ou remoção na varredura\n",
        "  for evento_atual in eventos:\n",
        "\n",
        "    # Se o evento é de inserção\n",
        "    if evento_atual.isLeft:\n",
        "\n",
        "      # Encontra o evento logo abaixo\n",
        "      evento_anterior = eventoAnterior(varredura, evento_atual)\n",
        "\n",
        "      # Encontra o evento logo acima\n",
        "      evento_posterior = eventoPosterior(varredura, evento_atual)\n",
        "\n",
        "      # Insere o segmento na varredura\n",
        "      inserirEvento(varredura, evento_atual)\n",
        "\n",
        "      # Compara o evento inserido com o evento logo abaixo\n",
        "      if (evento_anterior is not None and\n",
        "          evento_anterior.classe!=evento_atual.classe):\n",
        "        if segmentosIntersectam(evento_anterior.s, evento_atual.s):\n",
        "          return True\n",
        "\n",
        "      # Compara o evento inserido com o evento logo acima\n",
        "      if (evento_posterior is not None and\n",
        "          evento_posterior.classe!=evento_atual.classe):\n",
        "        if segmentosIntersectam(evento_posterior.s, evento_atual.s):\n",
        "          return True\n",
        "\n",
        "    # Se o evento é de remoção\n",
        "    else:\n",
        "      # Remove o segmento da varredura\n",
        "      removerEvento(varredura, evento_atual)\n",
        "\n",
        "      # Encontra o evento logo abaixo\n",
        "      evento_anterior = eventoAnterior(varredura, evento_atual)\n",
        "\n",
        "      # Encontra o evento logo acima\n",
        "      evento_posterior = eventoPosterior(varredura, evento_atual)\n",
        "\n",
        "      # Compara o evento logo abaixo e o evento logo acima\n",
        "      if (evento_anterior is not None and evento_posterior is not None and\n",
        "          evento_anterior.classe!=evento_posterior.classe):\n",
        "        if segmentosIntersectam(evento_anterior.s, evento_posterior.s):\n",
        "          return True\n",
        "\n",
        "  return False"
      ],
      "metadata": {
        "id": "QssiX4Qr9hpu"
      },
      "execution_count": 235,
      "outputs": []
    },
    {
      "cell_type": "markdown",
      "source": [
        "## Parte III"
      ],
      "metadata": {
        "id": "SHs_m2DzBOkQ"
      }
    },
    {
      "cell_type": "code",
      "source": [
        "# Função para plotar duas envoltórias\n",
        "def plotarParDeEnvoltorias(env1, env2):\n",
        "  fig, ax = plt.subplots()\n",
        "  fig.set_size_inches(5, 3.5)\n",
        "  ax.plot([env1[0].x, env1[len(env1)-1].x],\n",
        "          [env1[0].y, env1[len(env1)-1].y], 'bo-', label = 'Envoltória 1')\n",
        "  for i in range(1, len(env1)):\n",
        "    plt.plot([env1[i].x, env1[i-1].x], [env1[i].y, env1[i-1].y], 'bo-')\n",
        "\n",
        "  ax.plot([env2[0].x, env2[len(env2)-1].x],\n",
        "          [env2[0].y, env2[len(env2)-1].y], 'ro-', label = 'Envoltória 2')\n",
        "  for i in range(1, len(env2)):\n",
        "    plt.plot([env2[i].x, env2[i-1].x], [env2[i].y, env2[i-1].y], 'ro-')\n",
        "\n",
        "  return fig, ax"
      ],
      "metadata": {
        "id": "upvir0U9BMSL"
      },
      "execution_count": 236,
      "outputs": []
    },
    {
      "cell_type": "markdown",
      "source": [
        "## Partes IV e V"
      ],
      "metadata": {
        "id": "gz064TrGD-As"
      }
    },
    {
      "cell_type": "markdown",
      "source": [
        "A função **encontrarVerticesMaisProximos** recebe dois conjuntos de pontos representando envoltórias convexas e um parâmetro opcional plotar que controla a visualização gráfica.\n",
        "\n",
        "A função inicialmente encontra os pontos mais abaixo da envoltória 1 e mais acima da envoltória 2 com base em suas coordenadas $y$. Esses pontos são definidos como os pontos iniciais na análise. Assim, são analisados os pontos atuais nas envoltórias e calcula a distância entre eles. É encontrado também o segmento de menor distância.\n",
        "\n",
        "Essa implementação realiza iterações sobre os pontos nas envoltórias considerando todos os possíveis pares de pontos e encontra o segmento de menor distância.\n",
        "\n",
        "O segmento de menor distância e os índices dos pontos nas envoltórias correspondentes são retornados como resultado.\n",
        "\n",
        "Em suma, é executada a técnica de varredura das envoltórias e cálculo de distância para encontrar os dois pontos mais próximos entre duas envoltórias convexas."
      ],
      "metadata": {
        "id": "ND9sgxZMGCdT"
      }
    },
    {
      "cell_type": "code",
      "source": [
        "def encontrarVerticesMaisProximos(env1, env2, plotar=False):\n",
        "  # Plota as duas envoltórias\n",
        "  if plotar:\n",
        "    fig, ax = plotarParDeEnvoltorias(env1, env2)\n",
        "\n",
        "  # Encontra o índice do ponto mais abaixo da envoltória 1 e do ponto mais acima\n",
        "  # da envoltória 2 e os define como os primeiros pontos na análise\n",
        "  p1 = sorted(env1, key=lambda p: (p.y, p.x))[0]\n",
        "  p2 = sorted(env2, key=lambda p: (p.y, p.x))[-1]\n",
        "  inicial1 = env1.index(p1)\n",
        "  inicial2 = env2.index(p2)\n",
        "  atual1 = inicial1\n",
        "  atual2 = inicial2\n",
        "  visitados1 = 0\n",
        "  visitados2 = 0\n",
        "\n",
        "  # Plota o segmento sendo analisado na iteração\n",
        "  if plotar:\n",
        "    ax.plot([p1.x, p2.x], [p1.y, p2.y], 'ko-')\n",
        "    ax.legend()\n",
        "    plt.show()\n",
        "\n",
        "  # Inicializa o segmento de menor distância até então\n",
        "  distancia_min = distancia(env1[atual1], env2[atual2])\n",
        "  segmento_min = Segmento(env1[atual1], env2[atual2])\n",
        "  indice_min_env1 = atual1\n",
        "  indice_min_env2 = atual2\n",
        "\n",
        "  # Encontra próximo segmento a ser analizado\n",
        "  proximo1 = atual1+1 if atual1!=len(env1)-1 else 0\n",
        "  proximo2 = atual2+1 if atual2!=len(env2)-1 else 0\n",
        "  if produtoVetorial(Ponto(0, 0), env1[atual1]-env1[proximo1],\n",
        "                    env2[atual2]-env2[proximo2]) < 0:\n",
        "    atual2 = proximo2\n",
        "    visitados2+=1\n",
        "  else:\n",
        "    atual1 = proximo1\n",
        "    visitados1+=1\n",
        "\n",
        "  # Repete até passar por todos os pares possíveis\n",
        "  while(visitados1<=len(env1) and visitados2<=len(env2)):\n",
        "    # Plota as duas envoltórias e o segmento sendo analisado na iteração\n",
        "    if plotar:\n",
        "      fig, ax = plotarParDeEnvoltorias(env1, env2)\n",
        "\n",
        "      ax.plot([env1[atual1].x, env2[atual2].x],\n",
        "              [env1[atual1].y, env2[atual2].y], 'ko-')\n",
        "\n",
        "      ax.legend()\n",
        "      plt.show()\n",
        "\n",
        "    # Verifica se a distância atual é a menor calculada até então\n",
        "    if distancia(env1[atual1], env2[atual2]) < distancia_min:\n",
        "      distancia_min = distancia(env1[atual1], env2[atual2])\n",
        "      segmento_min = Segmento(env1[atual1], env2[atual2])\n",
        "      indice_min_env1 = atual1\n",
        "      indice_min_env2 = atual2\n",
        "\n",
        "    # Encontra próximo segmento a ser analizado\n",
        "    proximo1 = atual1+1 if atual1!=len(env1)-1 else 0\n",
        "    proximo2 = atual2+1 if atual2!=len(env2)-1 else 0\n",
        "    if produtoVetorial(Ponto(0, 0), env1[atual1]-env1[proximo1],\n",
        "                      env2[atual2]-env2[proximo2]) > 0:\n",
        "      atual2 = proximo2\n",
        "      visitados2+=1\n",
        "    else:\n",
        "      atual1 = proximo1\n",
        "      visitados1+=1\n",
        "\n",
        "  return segmento_min, indice_min_env1, indice_min_env2"
      ],
      "metadata": {
        "id": "3n56kSAzEA4M"
      },
      "execution_count": 237,
      "outputs": []
    },
    {
      "cell_type": "markdown",
      "source": [
        "No caso em que há separabildiade linear entre os dados, são localizados os pontos mais próximos entre as duas envoltórias e a reta perpendicular ao ponto médio.\n",
        "\n",
        "Para tal, usamos a declaração da classe auxiliar **Reta** para melhor manipulação dos atributos da reta específica.\n",
        "É composta simplesmente pelos artibutos $a$, que representa a inclinação, e $b$, que é o termo independente, ambos de acordo com a equação da reta $f(x) = a*x + b$.\n",
        "\n",
        "A reta perpendicular é calculada e estruturada pela função **retaPerpendicular** sendo utilizados conceitos matemáticos básicos, recebendo como entrada a reta original e o ponto em que a reta perpendicular e a original se intersecionam.\n",
        "\n",
        "Acresce o uso da funções **retaDoSegmento** que encontra a reta que contém o segmento passado como parâmetro, **funcaoDaReta** que retorna o valor número da função $y(x)$ para um dado $x$ passado e **pontoDeInteresecao**, que encontra o ponto de interseção entre duas retas $reta1$ e $reta2$ caso exista."
      ],
      "metadata": {
        "id": "EW9GgLhNGXZ-"
      }
    },
    {
      "cell_type": "code",
      "source": [
        "# Classe de uma reta y = ax + b\n",
        "class Reta:\n",
        "  def __init__(self, a, b):\n",
        "    self.a = a\n",
        "    self.b = b"
      ],
      "metadata": {
        "id": "TdZOodzyEDkh"
      },
      "execution_count": 238,
      "outputs": []
    },
    {
      "cell_type": "code",
      "source": [
        "# Encontra a reta y' = a'x + b' perpendicular a uma reta r\n",
        "# que passe por um ponto p\n",
        "def retaPerpendicular(r, p):\n",
        "  # Inclinação da reta (a')\n",
        "  a2 = -1/r.a\n",
        "  # Desvio vertical em relação à origem (b')\n",
        "  b2 = p.y - a2*p.x\n",
        "\n",
        "  r2 = Reta(a2, b2)\n",
        "  return r2"
      ],
      "metadata": {
        "id": "nv8qf6RGEKZD"
      },
      "execution_count": 239,
      "outputs": []
    },
    {
      "cell_type": "code",
      "source": [
        "# Encontra a reta y = ax + b que contém o segmento s\n",
        "def retaDoSegmento(s):\n",
        "  # Inclinação da reta (a)\n",
        "  if (s.esquerda.x-s.direita.x) == 0:\n",
        "    a = np.Inf\n",
        "  else:\n",
        "    a = (s.esquerda.y-s.direita.y)/(s.esquerda.x-s.direita.x)\n",
        "  # Desvio vertical em relação à origem (b)\n",
        "  b = s.esquerda.y - a*s.esquerda.x\n",
        "\n",
        "  r = Reta(a, b)\n",
        "  return r"
      ],
      "metadata": {
        "id": "7WX_9wNIEMtO"
      },
      "execution_count": 240,
      "outputs": []
    },
    {
      "cell_type": "code",
      "source": [
        "# função y(x) da reta y = ax + b\n",
        "def funcaoDaReta(r):\n",
        "  # Define a função da reta e a retorna\n",
        "  def f(x):\n",
        "    return r.a*x + r.b\n",
        "\n",
        "  return f"
      ],
      "metadata": {
        "id": "0sOoy_OYEOtz"
      },
      "execution_count": 241,
      "outputs": []
    },
    {
      "cell_type": "code",
      "source": [
        "# Encontra o ponto de interseção entre duas retas\n",
        "def pontoDeIntersecao(reta1, reta2):\n",
        "  x = (reta2.b - reta1.b)/(reta1.a - reta2.a)\n",
        "\n",
        "  f = funcaoDaReta(reta1)\n",
        "\n",
        "  return Ponto(x, f(x))"
      ],
      "metadata": {
        "id": "e6PaWNnDEQtU"
      },
      "execution_count": 242,
      "outputs": []
    },
    {
      "cell_type": "markdown",
      "source": [
        "# Parte VI"
      ],
      "metadata": {
        "id": "5zRdvq3YETpn"
      }
    },
    {
      "cell_type": "code",
      "source": [
        "from sklearn.metrics import precision_score, recall_score, f1_score"
      ],
      "metadata": {
        "id": "6m8tJ903ESq8"
      },
      "execution_count": 243,
      "outputs": []
    },
    {
      "cell_type": "markdown",
      "source": [
        "## ***EXPERIMENTOS***"
      ],
      "metadata": {
        "id": "8_OQDG5IJYwV"
      }
    },
    {
      "cell_type": "markdown",
      "source": [
        "De forma a satisfazer a especificação do trabalho, para cada base de dados usada, nós primeiro filtramos as variáveis de forma a termos apenas 2 variáveis."
      ],
      "metadata": {
        "id": "WKt4MsX1ZS1c"
      }
    },
    {
      "cell_type": "markdown",
      "source": [
        "# Experimento 1 - Iris plants dataset"
      ],
      "metadata": {
        "id": "pY-qBWQzEd1k"
      }
    },
    {
      "cell_type": "code",
      "source": [
        "from sklearn.model_selection import train_test_split\n",
        "import pandas as pd\n",
        "\n",
        "# Le o arquivo com os dados\n",
        "df = pd.read_csv('/content/sample_data/iris.csv')\n",
        "# Seleciona as colunas de interesse\n",
        "df.drop(df.columns[[2,3]], axis=1, inplace=True)\n",
        "df.to_numpy()\n",
        "\n",
        "# Separa os dados de teste em proporção de 70% para o treinamento e 30% para o teste\n",
        "train, test = train_test_split(df, train_size=0.7)\n",
        "classe1 = ' Iris-setosa'\n",
        "classe2 = ' Iris-versicolor'\n",
        "\n",
        "# Cria os objetos da classe Ponto a partir dos atributos escolhidos\n",
        "pontos1 = []\n",
        "pontos2 = []\n",
        "for row in train.iterrows():\n",
        "  if list(row)[1][2] == classe1:\n",
        "    pontos1.append(Ponto(float(list(row)[1][0]), float(list(row)[1][1])))\n",
        "  elif list(row)[1][2] == classe2:\n",
        "    pontos2.append(Ponto(float(list(row)[1][0]), float(list(row)[1][1])))"
      ],
      "metadata": {
        "id": "eaz1pxsrEYtJ"
      },
      "execution_count": 244,
      "outputs": []
    },
    {
      "cell_type": "markdown",
      "source": [
        "# Parte 1"
      ],
      "metadata": {
        "id": "oA_zfJ2wEnna"
      }
    },
    {
      "cell_type": "code",
      "source": [
        "# Encontra a envoltória convexa dos pontos da classe1\n",
        "env1 = envoltoriaConvexa(pontos1)"
      ],
      "metadata": {
        "id": "38Ph5sPzEvIg"
      },
      "execution_count": 245,
      "outputs": []
    },
    {
      "cell_type": "code",
      "source": [
        "# Encontra a envoltória convexa dos pontos da classe2\n",
        "env2 = envoltoriaConvexa(pontos2)"
      ],
      "metadata": {
        "id": "fTvNeJk7Extg"
      },
      "execution_count": 246,
      "outputs": []
    },
    {
      "cell_type": "code",
      "source": [
        "# Plota as envoltórias encontradas\n",
        "plt.plot([env1[0].x, env1[len(env1)-1].x], [env1[0].y, env1[len(env1)-1].y], 'bo-', label = classe1)\n",
        "for i in range(1, len(env1)):\n",
        "  plt.plot([env1[i].x, env1[i-1].x], [env1[i].y, env1[i-1].y], 'bo-')\n",
        "\n",
        "plt.plot([env2[0].x, env2[len(env2)-1].x], [env2[0].y, env2[len(env2)-1].y], 'ro-', label = classe2)\n",
        "for i in range(1, len(env2)):\n",
        "  plt.plot([env2[i].x, env2[i-1].x], [env2[i].y, env2[i-1].y], 'ro-')\n",
        "\n",
        "plt.xlabel(\"SepalLength\")\n",
        "plt.ylabel(\"SepalWidth\")\n",
        "plt.legend()\n",
        "plt.show()"
      ],
      "metadata": {
        "colab": {
          "base_uri": "https://localhost:8080/",
          "height": 453
        },
        "id": "kNMMliPRE0Ea",
        "outputId": "72c5b50c-a09c-4d93-9318-16d3eb126ded"
      },
      "execution_count": 247,
      "outputs": [
        {
          "output_type": "display_data",
          "data": {
            "text/plain": [
              "<Figure size 640x480 with 1 Axes>"
            ],
            "image/png": "[encoded data removed]"
          },
          "metadata": {}
        }
      ]
    },
    {
      "cell_type": "markdown",
      "source": [
        "# Parte 2\n"
      ],
      "metadata": {
        "id": "t5VtJH6XE3iW"
      }
    },
    {
      "cell_type": "code",
      "source": [
        "# Encontra os segmentos que compoem as envoltórias convexas\n",
        "segmentos1 = segmentosDaEnvoltoria(env1)\n",
        "segmentos2 = segmentosDaEnvoltoria(env2)"
      ],
      "metadata": {
        "id": "uZBkHhZ4E5tI"
      },
      "execution_count": 248,
      "outputs": []
    },
    {
      "cell_type": "code",
      "source": [
        "# Cria um array de eventos com a ordem de serem inseridos ou removidos na\n",
        "# varredura linear\n",
        "eventos = criarEventos(segmentos1, segmentos2)"
      ],
      "metadata": {
        "id": "RXOgxusHE98b"
      },
      "execution_count": 249,
      "outputs": []
    },
    {
      "cell_type": "markdown",
      "source": [
        "# Parte 3"
      ],
      "metadata": {
        "id": "2OVrgnQcFAbp"
      }
    },
    {
      "cell_type": "code",
      "source": [
        "# Verifica separabilidade linear dos dados\n",
        "if intersecaoEmConjunto(eventos):\n",
        "  print('Dados não linearmente separáveis')\n",
        "else:\n",
        "  print('Dados linearmente separáveis')"
      ],
      "metadata": {
        "colab": {
          "base_uri": "https://localhost:8080/"
        },
        "id": "JVliB70-FBd7",
        "outputId": "0100b6fe-19c5-45a3-e667-97f7d252e78f"
      },
      "execution_count": 250,
      "outputs": [
        {
          "output_type": "stream",
          "name": "stdout",
          "text": [
            "Dados linearmente separáveis\n"
          ]
        }
      ]
    },
    {
      "cell_type": "markdown",
      "source": [
        "# Parte 4\n",
        "A construção do modelo leva em consideração o algoritmo de Gilbert–Johnson–Keerthi para detectar colisões, mais especificamente o cálculo da diferença de Minowski para encontrar, para cada ângulo em duas dimensões possível de um vetor, os dois pontos mais próximos e os dois pontos mais distantes entre dois polígonos segundo tal vetor.\n",
        "\n",
        "Nessa aplicação, foi utilizado como estado inicial da busca o ponto na envoltória 1 com maior y e o ponto na envoltória 2 com menor y, o que seriam os dois pontos mais distantes ou mais próximos considerando um vetor vertical. Em seguida o algoritmo iterativamente encontra os próximos pares de pontos, de forma que os pontos sempre são de envoltórias diferentes. É escolhido o par de pontos cuja distância euclidiana é a menor de todas como o par A, D de vértices mais próximos entre as envoltórias. Essa busca iterativa pode ser observada graficamente na função \"encontrarVerticesMaisProximos\" desde que a flag \"plotar\" esteja com o valor True.\n",
        "\n",
        "Seja A o vértice na envoltória 1 e D o vértice na envoltória 2. B e C são vértices tal que AB e AC são lados da envoltória 1 e E e F são vértices tal que DE e DF são lados da envoltória 2. Utilizando esses vértices, o algoritmo encontra a altura dos triângulos ABD, ACD, ADE, ADF. Em seguida, o algoritmo escolhe apenas os triângulos que são acutângulos e compara a altura desses triângulos com a distância entre A e D e escolhe o menor desses segmentos como sendo a menor distância entre as envoltórias.\n",
        "\n",
        "Por fim, para definir a reta de classificação, o algoritmo encontra a reta perpendicular a esse segmento que passa pelo ponto médio do segmento."
      ],
      "metadata": {
        "id": "tN3g5gTpFFov"
      }
    },
    {
      "cell_type": "code",
      "source": [
        "# Encontra os vértices de menor distância entre as envoltórias\n",
        "segmento_min, indice_min_env1, indice_min_env2 = encontrarVerticesMaisProximos(env1, env2, plotar=False)"
      ],
      "metadata": {
        "id": "w5QjA7bpFJUR"
      },
      "execution_count": 251,
      "outputs": []
    },
    {
      "cell_type": "code",
      "source": [
        "# Encontra os pontos na envoltória que compartilham lado com os vértices mais\n",
        "# próximos de cada envoltória\n",
        "\n",
        "if indice_min_env1 == 0:\n",
        "  indice_prev_env1 = len(env1)-1\n",
        "else:\n",
        "  indice_prev_env1 = indice_min_env1-1\n",
        "\n",
        "if indice_min_env1 == len(env1)-1:\n",
        "  indice_next_env1 = 0\n",
        "else:\n",
        "  indice_next_env1 = indice_min_env1+1\n",
        "\n",
        "if indice_min_env2 == 0:\n",
        "  indice_prev_env2 = len(env2)-1\n",
        "else:\n",
        "  indice_prev_env2 = indice_min_env2-1\n",
        "\n",
        "if indice_min_env2 == len(env2)-1:\n",
        "  indice_next_env2 = 0\n",
        "else:\n",
        "  indice_next_env2 = indice_min_env2+1"
      ],
      "metadata": {
        "id": "msgDa7CWFMBX"
      },
      "execution_count": 252,
      "outputs": []
    },
    {
      "cell_type": "code",
      "source": [
        "# Encontra os pontos logo acima e logo abaixo dos pontos mais próximos entre as\n",
        "# envoltórias\n",
        "\n",
        "pontoA = env1[indice_min_env1]\n",
        "pontoB = env1[indice_prev_env1]\n",
        "pontoC = env1[indice_next_env1]\n",
        "pontoD = env2[indice_min_env2]\n",
        "pontoE = env2[indice_prev_env2]\n",
        "pontoF = env2[indice_next_env2]\n",
        "\n",
        "print('A', pontoA.x, pontoA.y)\n",
        "print('B', pontoB.x, pontoB.y)\n",
        "print('C', pontoC.x, pontoC.y)\n",
        "\n",
        "print('D', pontoD.x, pontoF.y)\n",
        "print('E', pontoE.x, pontoE.y)\n",
        "print('F', pontoF.x, pontoF.y)"
      ],
      "metadata": {
        "colab": {
          "base_uri": "https://localhost:8080/"
        },
        "id": "68i0fdS0FPN4",
        "outputId": "5e8cd84e-0175-4760-f391-b03775e6ad28"
      },
      "execution_count": 253,
      "outputs": [
        {
          "output_type": "stream",
          "name": "stdout",
          "text": [
            "A 5.5 3.5\n",
            "B 4.5 2.3\n",
            "C 5.7 3.8\n",
            "D 5.9 3.0\n",
            "E 6.3 3.3\n",
            "F 5.4 3.0\n"
          ]
        }
      ]
    },
    {
      "cell_type": "code",
      "source": [
        "# Verifica os pontos mais proximos entre as envoltórias\n",
        "\n",
        "# Distância entre os dois vértices mais próximos entre as envoltórias\n",
        "distanciaVerticesMaisProximos = distancia(pontoA, pontoD)\n",
        "pontosMaisProximos = Segmento(pontoA, pontoD)\n",
        "menorDistancia = distanciaVerticesMaisProximos\n",
        "\n",
        "# Altura do triangulo ABD\n",
        "rAB = retaDoSegmento(Segmento(pontoA, pontoB))\n",
        "rAB_perpendicular = retaPerpendicular(rAB, pontoD)\n",
        "yRAB_perpendicular = funcaoDaReta(rAB_perpendicular)\n",
        "pAB = pontoDeIntersecao(rAB, rAB_perpendicular)\n",
        "alturaABD = distancia(pAB, pontoD)\n",
        "\n",
        "if alturaABD < menorDistancia and noSegmento(pontoA, pontoB, pAB):\n",
        "  menorDistancia = alturaABD\n",
        "  pontosMaisProximos = Segmento(pAB, pontoD)\n",
        "\n",
        "# Altura do triangulo ACD\n",
        "rAC = retaDoSegmento(Segmento(pontoA, pontoC))\n",
        "rAC_perpendicular = retaPerpendicular(rAC, pontoD)\n",
        "yRAC_perpendicular = funcaoDaReta(rAC_perpendicular)\n",
        "pAC = pontoDeIntersecao(rAC, rAC_perpendicular)\n",
        "alturaACD = distancia(pAC, pontoD)\n",
        "\n",
        "if alturaACD < menorDistancia and noSegmento(pontoA, pontoC, pAC):\n",
        "  menorDistancia = alturaACD\n",
        "  pontosMaisProximos = Segmento(pAC, pontoD)\n",
        "\n",
        "# Altura do triangulo ADE\n",
        "rDE = retaDoSegmento(Segmento(pontoD, pontoE))\n",
        "rDE_perpendicular = retaPerpendicular(rDE, pontoA)\n",
        "yRDE_perpendicular = funcaoDaReta(rDE_perpendicular)\n",
        "pDE = pontoDeIntersecao(rDE, rDE_perpendicular)\n",
        "alturaADE = distancia(pDE, pontoA)\n",
        "\n",
        "if alturaADE < menorDistancia and noSegmento(pontoD, pontoE, pDE):\n",
        "  menorDistancia = alturaADE\n",
        "  pontosMaisProximos = Segmento(pDE, pontoA)\n",
        "\n",
        "# Altura do triangulo ADF\n",
        "rDF = retaDoSegmento(Segmento(pontoD, pontoF))\n",
        "rDF_perpendicular = retaPerpendicular(rDF, pontoA)\n",
        "yRDF_perpendicular = funcaoDaReta(rDF_perpendicular)\n",
        "pDF = pontoDeIntersecao(rDF, rDF_perpendicular)\n",
        "alturaADF = distancia(pDF, pontoA)\n",
        "\n",
        "if alturaADF < menorDistancia and noSegmento(pontoD, pontoF, pDF):\n",
        "  menorDistancia = alturaADF\n",
        "  pontosMaisProximos = Segmento(pDF, pontoA)"
      ],
      "metadata": {
        "id": "0iwhIKqUFRxt"
      },
      "execution_count": 254,
      "outputs": []
    },
    {
      "cell_type": "code",
      "source": [
        "# Reta r que contém o segmento de menor distância entre duas envoltórias\n",
        "r = retaDoSegmento(pontosMaisProximos)\n",
        "\n",
        "# Ponto médio do segmento de menor distância entre duas envoltórias\n",
        "p = Ponto((pontosMaisProximos.esquerda.x + pontosMaisProximos.direita.x)/2,\n",
        "          (pontosMaisProximos.esquerda.y + pontosMaisProximos.direita.y)/2)\n",
        "\n",
        "# Reta r' perpendicular a r\n",
        "r_perpendicular = retaPerpendicular(r, p)\n",
        "\n",
        "# Função da reta r\n",
        "yR_perpendicular = funcaoDaReta(r_perpendicular)"
      ],
      "metadata": {
        "id": "RMqusT3DFT1m"
      },
      "execution_count": 255,
      "outputs": []
    },
    {
      "cell_type": "code",
      "source": [
        "# Plota as envoltórias\n",
        "fig, ax = plotarParDeEnvoltorias(env1, env2)\n",
        "xlim = ax.get_xlim()\n",
        "ylim = ax.get_ylim()\n",
        "ax.set_xlim(xlim)\n",
        "ax.set_ylim(ylim)\n",
        "\n",
        "# Plota o segmento de menor distância entre as envoltórias\n",
        "ax.plot([pontosMaisProximos.esquerda.x, pontosMaisProximos.direita.x],\n",
        "        [pontosMaisProximos.esquerda.y, pontosMaisProximos.direita.y], 'ko-')\n",
        "\n",
        "# Plota a reta que separa as envoltórias\n",
        "x = np.linspace(xlim[0], xlim[1], 1000)\n",
        "ax.plot(x, yR_perpendicular(x), 'g')\n",
        "\n",
        "print(\"Função da reta: \" + str(r_perpendicular.a) + \"x + \" + str(r_perpendicular.b))\n",
        "\n",
        "ax.legend()\n",
        "plt.show()"
      ],
      "metadata": {
        "colab": {
          "base_uri": "https://localhost:8080/",
          "height": 352
        },
        "id": "Zq24XsuqFV5X",
        "outputId": "d6fc9ead-af8c-4796-8a07-0897b4c64961"
      },
      "execution_count": 256,
      "outputs": [
        {
          "output_type": "stream",
          "name": "stdout",
          "text": [
            "Função da reta: 0.3999999999999991x + 1.0700000000000052\n"
          ]
        },
        {
          "output_type": "display_data",
          "data": {
            "text/plain": [
              "<Figure size 500x350 with 1 Axes>"
            ],
            "image/png": "[encoded data removed]"
          },
          "metadata": {}
        }
      ]
    },
    {
      "cell_type": "markdown",
      "source": [
        "# Parte 5\n",
        "O classificador utiliza a reta de classificação definida na parte anterior para classificar o novo ponto, calculando se o ponto está abaixo ou acima da reta de classificação e qual das classes está acima ou abaixo dessa reta."
      ],
      "metadata": {
        "id": "MltvciBgFZyb"
      }
    },
    {
      "cell_type": "code",
      "source": [
        "# Função que determina se um ponto está acima de uma reta\n",
        "def estaAcimaDaReta(ponto, reta):\n",
        "  f = funcaoDaReta(reta)\n",
        "  if f(ponto.x) < ponto.y:\n",
        "    return True\n",
        "  return False"
      ],
      "metadata": {
        "id": "qgmyUmpnFa7F"
      },
      "execution_count": 257,
      "outputs": []
    },
    {
      "cell_type": "code",
      "source": [
        "# Define qual das envoltórias está acima da reta\n",
        "if (estaAcimaDaReta(pontosMaisProximos.direita, r_perpendicular) and\n",
        "    pontosMaisProximos.direita == pontoD):\n",
        "  classeAcima = 2\n",
        "else:\n",
        "  classeAcima = 1"
      ],
      "metadata": {
        "id": "YI0srsiPFeac"
      },
      "execution_count": 258,
      "outputs": []
    },
    {
      "cell_type": "code",
      "source": [
        "# Cria os vetores de labels e guesses com os valores correto e os valores\n",
        "# determinados pelo classificador\n",
        "labels = []\n",
        "guesses = []\n",
        "\n",
        "for row in test.iterrows():\n",
        "  if list(row)[1][2] == classe1:\n",
        "    labels.append(True)\n",
        "  elif list(row)[1][2] == classe2:\n",
        "    labels.append(False)\n",
        "  else:\n",
        "    continue\n",
        "\n",
        "  if estaAcimaDaReta(Ponto(list(row)[1][0], list(row)[1][1]), r_perpendicular):\n",
        "    guesses.append(classeAcima == 1)\n",
        "  else:\n",
        "    guesses.append(classeAcima == 2)"
      ],
      "metadata": {
        "id": "Ik9TKHMbFgOu"
      },
      "execution_count": 259,
      "outputs": []
    },
    {
      "cell_type": "markdown",
      "source": [
        "# Parte 6\n",
        "As métricas de classificação são calculadas utilizando as funções da biblioteca Scikit-Learn. O vetor de labels possui a classe correta dos pontos, definida no arquivo base, e o vetor de guesses possui a resposta que nosso classificador atribuiu a cada ponto."
      ],
      "metadata": {
        "id": "gCB-pcsGFidH"
      }
    },
    {
      "cell_type": "code",
      "source": [
        "# Calcula as métricas de classificação\n",
        "print('Precisão:', precision_score(labels, guesses))\n",
        "print('Revocação:', recall_score(labels, guesses))\n",
        "print('f1-escore:', f1_score(labels, guesses))"
      ],
      "metadata": {
        "colab": {
          "base_uri": "https://localhost:8080/"
        },
        "id": "xD-zdQnXFlHb",
        "outputId": "c0ad24bc-6a6d-4cb8-ca1a-626fec72ce31"
      },
      "execution_count": 260,
      "outputs": [
        {
          "output_type": "stream",
          "name": "stdout",
          "text": [
            "Precisão: 1.0\n",
            "Revocação: 1.0\n",
            "f1-escore: 1.0\n"
          ]
        }
      ]
    },
    {
      "cell_type": "markdown",
      "source": [
        "# Experimento 2 - Global Temperatures data set"
      ],
      "metadata": {
        "id": "kgVpy5-_nP7G"
      }
    },
    {
      "cell_type": "code",
      "source": [
        "# Le o arquivo com os dados\n",
        "df = pd.read_csv('/content/sample_data/global_temps.csv')\n",
        "# Seleciona as colunas de interesse\n",
        "df.drop(df.columns[[1,2,3,4,5,6,7,8,9,10,11,12,14,15,16,17,18]], axis=1, inplace=True)\n",
        "df.to_numpy()\n",
        "\n",
        "# Definição de uma coluna a mais com a variação da temperatura com relação ao ano\n",
        "# anterior para separação em duas classes\n",
        "df['Annual_Temperature_Variation'] = df['J-D'].diff()\n",
        "\n",
        "# Separa os dados de teste em proporção de 70% para o treinamento e 30% para o teste\n",
        "train, test = train_test_split(df, train_size=0.7)\n",
        "\n",
        "# Cria os objetos da classe Ponto a partir dos atributos escolhidos\n",
        "pontos1 = []\n",
        "pontos2 = []\n",
        "for row in train.iterrows():\n",
        "  if list(row)[1][2] >= 0:\n",
        "    pontos1.append(Ponto(float(list(row)[1][0]), float(list(row)[1][1])))\n",
        "  elif list(row)[1][2] < 0:\n",
        "    pontos2.append(Ponto(float(list(row)[1][0]), float(list(row)[1][1])))"
      ],
      "metadata": {
        "id": "icd_6bTfnP7N"
      },
      "execution_count": 261,
      "outputs": []
    },
    {
      "cell_type": "code",
      "source": [
        "# Encontra a envoltória convexa dos pontos da classe1 e classe2\n",
        "env1 = envoltoriaConvexa(pontos1)\n",
        "env2 = envoltoriaConvexa(pontos2)"
      ],
      "metadata": {
        "id": "-C7o4axDnP7O"
      },
      "execution_count": 262,
      "outputs": []
    },
    {
      "cell_type": "code",
      "source": [
        "# Plota as envoltórias encontradas\n",
        "plt.plot([env1[0].x, env1[len(env1)-1].x], [env1[0].y, env1[len(env1)-1].y], 'bo-', label = '1')\n",
        "for i in range(1, len(env1)):\n",
        "  plt.plot([env1[i].x, env1[i-1].x], [env1[i].y, env1[i-1].y], 'bo-')\n",
        "\n",
        "plt.plot([env2[0].x, env2[len(env2)-1].x], [env2[0].y, env2[len(env2)-1].y], 'ro-', label = '3')\n",
        "for i in range(1, len(env2)):\n",
        "  plt.plot([env2[i].x, env2[i-1].x], [env2[i].y, env2[i-1].y], 'ro-')\n",
        "\n",
        "plt.xlabel(\"Year\")\n",
        "plt.ylabel(\"J-D\")\n",
        "plt.legend()\n",
        "plt.show()"
      ],
      "metadata": {
        "colab": {
          "base_uri": "https://localhost:8080/",
          "height": 449
        },
        "outputId": "5d42ffb2-0b5a-4fb0-aad2-66395f8802d4",
        "id": "shfZHOtDnP7O"
      },
      "execution_count": 263,
      "outputs": [
        {
          "output_type": "display_data",
          "data": {
            "text/plain": [
              "<Figure size 640x480 with 1 Axes>"
            ],
            "image/png": "[encoded data removed]"
          },
          "metadata": {}
        }
      ]
    },
    {
      "cell_type": "code",
      "source": [
        "# Encontra os segmentos que compoem as envoltórias convexas\n",
        "segmentos1 = segmentosDaEnvoltoria(env1)\n",
        "segmentos2 = segmentosDaEnvoltoria(env2)\n",
        "\n",
        "# Cria um array de eventos com a ordem de serem inseridos ou removidos na\n",
        "# varredura linear\n",
        "eventos = criarEventos(segmentos1, segmentos2)"
      ],
      "metadata": {
        "id": "iUt9-CkPnP7O"
      },
      "execution_count": 264,
      "outputs": []
    },
    {
      "cell_type": "code",
      "source": [
        "# Verifica separabilidade linear dos dados\n",
        "if intersecaoEmConjunto(eventos):\n",
        "  print('Dados não linearmente separáveis')\n",
        "else:\n",
        "  print('Dados linearmente separáveis')"
      ],
      "metadata": {
        "colab": {
          "base_uri": "https://localhost:8080/"
        },
        "outputId": "3f12969c-2b04-4ab9-9955-efda2cebc92d",
        "id": "vSlJzkHenP7O"
      },
      "execution_count": 265,
      "outputs": [
        {
          "output_type": "stream",
          "name": "stdout",
          "text": [
            "Dados não linearmente separáveis\n"
          ]
        }
      ]
    },
    {
      "cell_type": "markdown",
      "source": [
        "# Experimento 3 - Cancer data set"
      ],
      "metadata": {
        "id": "Aj7A5Lhh5hAN"
      }
    },
    {
      "cell_type": "code",
      "source": [
        "# Le o arquivo com os dados\n",
        "df = pd.read_csv('/content/sample_data/cancer.csv')\n",
        "# Seleciona as colunas de interesse\n",
        "df.drop(df.columns[[0,4,6,5,7,8,9,10,11,12,13,14,15]], axis=1, inplace=True)\n",
        "\n",
        "# Reordenação das colunas\n",
        "df = df[['Radius (mean)','Texture (mean)', 'Diagnosis']]\n",
        "df.to_numpy()\n",
        "\n",
        "# Separa os dados de teste em proporção de 70% para o treinamento e 30% para o teste\n",
        "train, test = train_test_split(df, train_size=0.7)\n",
        "\n",
        "# Cria os objetos da classe Ponto a partir dos atributos escolhidos\n",
        "pontos1 = []\n",
        "pontos2 = []\n",
        "for row in train.iterrows():\n",
        "  if list(row)[1][2] == \"B\":\n",
        "    pontos1.append(Ponto(float(list(row)[1][0]), float(list(row)[1][1])))\n",
        "  elif list(row)[1][2] == \"M\":\n",
        "    pontos2.append(Ponto(float(list(row)[1][0]), float(list(row)[1][1])))"
      ],
      "metadata": {
        "id": "r_oZgRA45hAV"
      },
      "execution_count": 266,
      "outputs": []
    },
    {
      "cell_type": "code",
      "source": [
        "# Encontra a envoltória convexa dos pontos da classe1 e classe2\n",
        "env1 = envoltoriaConvexa(pontos1)\n",
        "env2 = envoltoriaConvexa(pontos2)"
      ],
      "metadata": {
        "id": "zUp-dC0v5hAV"
      },
      "execution_count": 267,
      "outputs": []
    },
    {
      "cell_type": "code",
      "source": [
        "# Plota as envoltórias encontradas\n",
        "plt.plot([env1[0].x, env1[len(env1)-1].x], [env1[0].y, env1[len(env1)-1].y], 'bo-', label = 'Benigno')\n",
        "for i in range(1, len(env1)):\n",
        "  plt.plot([env1[i].x, env1[i-1].x], [env1[i].y, env1[i-1].y], 'bo-')\n",
        "\n",
        "plt.plot([env2[0].x, env2[len(env2)-1].x], [env2[0].y, env2[len(env2)-1].y], 'ro-', label = 'Malígno')\n",
        "for i in range(1, len(env2)):\n",
        "  plt.plot([env2[i].x, env2[i-1].x], [env2[i].y, env2[i-1].y], 'ro-')\n",
        "\n",
        "plt.xlabel(\"Radius (mean)\")\n",
        "plt.ylabel(\"Texture (mean)\")\n",
        "plt.legend()\n",
        "plt.show()"
      ],
      "metadata": {
        "colab": {
          "base_uri": "https://localhost:8080/",
          "height": 449
        },
        "outputId": "1ba35a6f-3397-4e7a-9602-6b5fbe88062d",
        "id": "Jm9fdbM-5hAV"
      },
      "execution_count": 268,
      "outputs": [
        {
          "output_type": "display_data",
          "data": {
            "text/plain": [
              "<Figure size 640x480 with 1 Axes>"
            ],
            "image/png": "[encoded data removed]"
          },
          "metadata": {}
        }
      ]
    },
    {
      "cell_type": "code",
      "source": [
        "# Encontra os segmentos que compoem as envoltórias convexas\n",
        "segmentos1 = segmentosDaEnvoltoria(env1)\n",
        "segmentos2 = segmentosDaEnvoltoria(env2)\n",
        "\n",
        "# Cria um array de eventos com a ordem de serem inseridos ou removidos na\n",
        "# varredura linear\n",
        "eventos = criarEventos(segmentos1, segmentos2)"
      ],
      "metadata": {
        "id": "zmRUvYB35hAW"
      },
      "execution_count": 269,
      "outputs": []
    },
    {
      "cell_type": "code",
      "source": [
        "# Verifica separabilidade linear dos dados\n",
        "if intersecaoEmConjunto(eventos):\n",
        "  print('Dados não linearmente separáveis')\n",
        "else:\n",
        "  print('Dados linearmente separáveis')"
      ],
      "metadata": {
        "colab": {
          "base_uri": "https://localhost:8080/"
        },
        "outputId": "bef30530-b8b8-4067-aeeb-5d02bb0b0fa2",
        "id": "HVPn24eW5hAW"
      },
      "execution_count": 270,
      "outputs": [
        {
          "output_type": "stream",
          "name": "stdout",
          "text": [
            "Dados não linearmente separáveis\n"
          ]
        }
      ]
    },
    {
      "cell_type": "markdown",
      "source": [
        "# Experimento 4 - Wine data set"
      ],
      "metadata": {
        "id": "KNhq5o7pHYP5"
      }
    },
    {
      "cell_type": "code",
      "source": [
        "# Le o arquivo com os dados\n",
        "df = pd.read_csv('/content/sample_data/wine.csv')\n",
        "# Seleciona as colunas de interesse\n",
        "df.drop(df.columns[[1,2,3,4,5,7,8,9,10,11,12]], axis=1, inplace=True)\n",
        "df.to_numpy()\n",
        "\n",
        "# Separa os dados de teste em proporção de 70% para o treinamento e 30% para o teste\n",
        "train, test = train_test_split(df, train_size=0.7)\n",
        "\n",
        "# Cria os objetos da classe Ponto a partir dos atributos escolhidos\n",
        "pontos1 = []\n",
        "pontos2 = []\n",
        "\n",
        "classe1 = 1\n",
        "classe2 = 3\n",
        "\n",
        "for row in train.iterrows():\n",
        "  if list(row)[1][2] == classe1:\n",
        "    pontos1.append(Ponto(float(list(row)[1][0]), float(list(row)[1][1])))\n",
        "  elif list(row)[1][2] == classe2:\n",
        "    pontos2.append(Ponto(float(list(row)[1][0]), float(list(row)[1][1])))"
      ],
      "metadata": {
        "id": "Sy2C4QWeHbSm"
      },
      "execution_count": 271,
      "outputs": []
    },
    {
      "cell_type": "code",
      "source": [
        "# Encontra a envoltória convexa dos pontos da classe1 e classe2\n",
        "env1 = envoltoriaConvexa(pontos1)\n",
        "env2 = envoltoriaConvexa(pontos2)\n",
        "\n",
        "print(len(env1), len(env2))"
      ],
      "metadata": {
        "id": "_57k9h5UHdct",
        "colab": {
          "base_uri": "https://localhost:8080/"
        },
        "outputId": "d918e280-1ce6-49e0-961a-c5dba9a9d109"
      },
      "execution_count": 272,
      "outputs": [
        {
          "output_type": "stream",
          "name": "stdout",
          "text": [
            "8 6\n"
          ]
        }
      ]
    },
    {
      "cell_type": "code",
      "source": [
        "# Plota as envoltórias encontradas\n",
        "plt.plot([env1[0].x, env1[len(env1)-1].x], [env1[0].y, env1[len(env1)-1].y], 'bo-', label = '1')\n",
        "for i in range(1, len(env1)):\n",
        "  plt.plot([env1[i].x, env1[i-1].x], [env1[i].y, env1[i-1].y], 'bo-')\n",
        "\n",
        "plt.plot([env2[0].x, env2[len(env2)-1].x], [env2[0].y, env2[len(env2)-1].y], 'ro-', label = '3')\n",
        "for i in range(1, len(env2)):\n",
        "  plt.plot([env2[i].x, env2[i-1].x], [env2[i].y, env2[i-1].y], 'ro-')\n",
        "\n",
        "plt.xlabel(\"Alcohol\")\n",
        "plt.ylabel(\"flavanoids\")\n",
        "plt.legend()\n",
        "plt.show()"
      ],
      "metadata": {
        "colab": {
          "base_uri": "https://localhost:8080/",
          "height": 449
        },
        "id": "eCe1tS5dHfDA",
        "outputId": "f2f0450e-88bb-4d67-de45-6593b5879a26"
      },
      "execution_count": 273,
      "outputs": [
        {
          "output_type": "display_data",
          "data": {
            "text/plain": [
              "<Figure size 640x480 with 1 Axes>"
            ],
            "image/png": "[encoded data removed]"
          },
          "metadata": {}
        }
      ]
    },
    {
      "cell_type": "code",
      "source": [
        "# Encontra os segmentos que compoem as envoltórias convexas\n",
        "segmentos1 = segmentosDaEnvoltoria(env1)\n",
        "segmentos2 = segmentosDaEnvoltoria(env2)\n",
        "\n",
        "# Cria um array de eventos com a ordem de serem inseridos ou removidos na\n",
        "# varredura linear\n",
        "eventos = criarEventos(segmentos1, segmentos2)"
      ],
      "metadata": {
        "id": "oISYb8jwHgmk"
      },
      "execution_count": 274,
      "outputs": []
    },
    {
      "cell_type": "code",
      "source": [
        "# Verifica separabilidade linear dos dados\n",
        "if intersecaoEmConjunto(eventos):\n",
        "  print('Dados não linearmente separáveis')\n",
        "else:\n",
        "  print('Dados linearmente separáveis')"
      ],
      "metadata": {
        "colab": {
          "base_uri": "https://localhost:8080/"
        },
        "id": "R9A-DhBBHid4",
        "outputId": "7e4fa238-545d-4d1f-d6fb-0579669f76be"
      },
      "execution_count": 275,
      "outputs": [
        {
          "output_type": "stream",
          "name": "stdout",
          "text": [
            "Dados linearmente separáveis\n"
          ]
        }
      ]
    },
    {
      "cell_type": "code",
      "source": [
        "# Encontra os vértices de menor distância entre as envoltórias\n",
        "segmento_min, indice_min_env1, indice_min_env2 = encontrarVerticesMaisProximos(env1, env2, plotar=False)"
      ],
      "metadata": {
        "id": "0X754g2oHkfd"
      },
      "execution_count": 276,
      "outputs": []
    },
    {
      "cell_type": "code",
      "source": [
        "# Encontra os pontos na envoltória que compartilham lado com os vértices mais\n",
        "# próximos de cada envoltória\n",
        "\n",
        "if indice_min_env1 == 0:\n",
        "  indice_prev_env1 = len(env1)-1\n",
        "else:\n",
        "  indice_prev_env1 = indice_min_env1-1\n",
        "\n",
        "if indice_min_env1 == len(env1)-1:\n",
        "  indice_next_env1 = 0\n",
        "else:\n",
        "  indice_next_env1 = indice_min_env1+1\n",
        "\n",
        "if indice_min_env2 == 0:\n",
        "  indice_prev_env2 = len(env2)-1\n",
        "else:\n",
        "  indice_prev_env2 = indice_min_env2-1\n",
        "\n",
        "if indice_min_env2 == len(env2)-1:\n",
        "  indice_next_env2 = 0\n",
        "else:\n",
        "  indice_next_env2 = indice_min_env2+1"
      ],
      "metadata": {
        "id": "2-TIxo6THmYt"
      },
      "execution_count": 277,
      "outputs": []
    },
    {
      "cell_type": "code",
      "source": [
        "# Encontra os pontos logo acima e logo abaixo dos pontos mais próximos entre as\n",
        "# envoltórias\n",
        "\n",
        "pontoA = env1[indice_min_env1]\n",
        "pontoB = env1[indice_prev_env1]\n",
        "pontoC = env1[indice_next_env1]\n",
        "pontoD = env2[indice_min_env2]\n",
        "pontoE = env2[indice_prev_env2]\n",
        "pontoF = env2[indice_next_env2]\n",
        "\n",
        "print('A', pontoA.x, pontoA.y)\n",
        "print('B', pontoB.x, pontoB.y)\n",
        "print('C', pontoC.x, pontoC.y)\n",
        "\n",
        "print('D', pontoD.x, pontoF.y)\n",
        "print('E', pontoE.x, pontoE.y)\n",
        "print('F', pontoF.x, pontoF.y)"
      ],
      "metadata": {
        "colab": {
          "base_uri": "https://localhost:8080/"
        },
        "id": "l-ItGo9fHoVM",
        "outputId": "13c86a16-1ff2-44a7-95e4-a01159564043"
      },
      "execution_count": 278,
      "outputs": [
        {
          "output_type": "stream",
          "name": "stdout",
          "text": [
            "A 14.02 2.33\n",
            "B 12.85 2.37\n",
            "C 14.39 2.52\n",
            "D 13.5 1.2\n",
            "E 14.34 1.31\n",
            "F 12.7 1.2\n"
          ]
        }
      ]
    },
    {
      "cell_type": "code",
      "source": [
        "# Verifica os pontos mais proximos entre as envoltórias\n",
        "\n",
        "# Distância entre os dois vértices mais próximos entre as envoltórias\n",
        "distanciaVerticesMaisProximos = distancia(pontoA, pontoD)\n",
        "pontosMaisProximos = Segmento(pontoA, pontoD)\n",
        "menorDistancia = distanciaVerticesMaisProximos\n",
        "\n",
        "# Altura do triangulo ABD\n",
        "rAB = retaDoSegmento(Segmento(pontoA, pontoB))\n",
        "rAB_perpendicular = retaPerpendicular(rAB, pontoD)\n",
        "yRAB_perpendicular = funcaoDaReta(rAB_perpendicular)\n",
        "pAB = pontoDeIntersecao(rAB, rAB_perpendicular)\n",
        "alturaABD = distancia(pAB, pontoD)\n",
        "\n",
        "if alturaABD < menorDistancia and noSegmento(pontoA, pontoB, pAB):\n",
        "  menorDistancia = alturaABD\n",
        "  pontosMaisProximos = Segmento(pAB, pontoD)\n",
        "\n",
        "# Altura do triangulo ACD\n",
        "rAC = retaDoSegmento(Segmento(pontoA, pontoC))\n",
        "rAC_perpendicular = retaPerpendicular(rAC, pontoD)\n",
        "yRAC_perpendicular = funcaoDaReta(rAC_perpendicular)\n",
        "pAC = pontoDeIntersecao(rAC, rAC_perpendicular)\n",
        "alturaACD = distancia(pAC, pontoD)\n",
        "\n",
        "if alturaACD < menorDistancia and noSegmento(pontoA, pontoC, pAC):\n",
        "  menorDistancia = alturaACD\n",
        "  pontosMaisProximos = Segmento(pAC, pontoD)\n",
        "\n",
        "# Altura do triangulo ADE\n",
        "rDE = retaDoSegmento(Segmento(pontoD, pontoE))\n",
        "rDE_perpendicular = retaPerpendicular(rDE, pontoA)\n",
        "yRDE_perpendicular = funcaoDaReta(rDE_perpendicular)\n",
        "pDE = pontoDeIntersecao(rDE, rDE_perpendicular)\n",
        "alturaADE = distancia(pDE, pontoA)\n",
        "\n",
        "if alturaADE < menorDistancia and noSegmento(pontoD, pontoE, pDE):\n",
        "  menorDistancia = alturaADE\n",
        "  pontosMaisProximos = Segmento(pDE, pontoA)\n",
        "\n",
        "# Altura do triangulo ADF\n",
        "rDF = retaDoSegmento(Segmento(pontoD, pontoF))\n",
        "rDF_perpendicular = retaPerpendicular(rDF, pontoA)\n",
        "yRDF_perpendicular = funcaoDaReta(rDF_perpendicular)\n",
        "pDF = pontoDeIntersecao(rDF, rDF_perpendicular)\n",
        "alturaADF = distancia(pDF, pontoA)\n",
        "\n",
        "if alturaADF < menorDistancia and noSegmento(pontoD, pontoF, pDF):\n",
        "  menorDistancia = alturaADF\n",
        "  pontosMaisProximos = Segmento(pDF, pontoA)"
      ],
      "metadata": {
        "id": "PqE-a6t7HqYT"
      },
      "execution_count": 279,
      "outputs": []
    },
    {
      "cell_type": "code",
      "source": [
        "# Reta r que contém o segmento de menor distância entre duas envoltórias\n",
        "r = retaDoSegmento(pontosMaisProximos)\n",
        "\n",
        "# Ponto médio do segmento de menor distância entre duas envoltórias\n",
        "p = Ponto((pontosMaisProximos.esquerda.x + pontosMaisProximos.direita.x)/2,\n",
        "          (pontosMaisProximos.esquerda.y + pontosMaisProximos.direita.y)/2)\n",
        "\n",
        "# Reta r' perpendicular a r\n",
        "r_perpendicular = retaPerpendicular(r, p)\n",
        "\n",
        "# Função da reta r\n",
        "yR_perpendicular = funcaoDaReta(r_perpendicular)"
      ],
      "metadata": {
        "id": "64eQOOu2Hsd3"
      },
      "execution_count": 280,
      "outputs": []
    },
    {
      "cell_type": "code",
      "source": [
        "# Plota as envoltórias\n",
        "fig, ax = plotarParDeEnvoltorias(env1, env2)\n",
        "xlim = ax.get_xlim()\n",
        "ylim = ax.get_ylim()\n",
        "ax.set_xlim(xlim)\n",
        "ax.set_ylim(ylim)\n",
        "\n",
        "# Plota o segmento de menor distância entre as envoltórias\n",
        "ax.plot([pontosMaisProximos.esquerda.x, pontosMaisProximos.direita.x],\n",
        "        [pontosMaisProximos.esquerda.y, pontosMaisProximos.direita.y], 'ko-')\n",
        "\n",
        "# Plota a reta que separa as envoltórias\n",
        "x = np.linspace(xlim[0], xlim[1], 1000)\n",
        "ax.plot(x, yR_perpendicular(x), 'g')\n",
        "\n",
        "print(\"Função da reta: \" + str(r_perpendicular.a) + \"x + \" + str(r_perpendicular.b))\n",
        "\n",
        "ax.legend()\n",
        "plt.show()"
      ],
      "metadata": {
        "colab": {
          "base_uri": "https://localhost:8080/",
          "height": 348
        },
        "id": "Ak1h3gAgHuRl",
        "outputId": "d1b4af6f-689a-4c72-c608-28576cdd47d2"
      },
      "execution_count": 281,
      "outputs": [
        {
          "output_type": "stream",
          "name": "stdout",
          "text": [
            "Função da reta: -0.03418803418803293x + 2.4204273504273335\n"
          ]
        },
        {
          "output_type": "display_data",
          "data": {
            "text/plain": [
              "<Figure size 500x350 with 1 Axes>"
            ],
            "image/png": "[encoded data removed]"
          },
          "metadata": {}
        }
      ]
    },
    {
      "cell_type": "code",
      "source": [
        "# Define qual das envoltórias está acima da reta\n",
        "if (estaAcimaDaReta(pontosMaisProximos.direita, r_perpendicular) and\n",
        "    pontosMaisProximos.direita == pontoD):\n",
        "  classeAcima = 2\n",
        "else:\n",
        "  classeAcima = 1"
      ],
      "metadata": {
        "id": "ku4A0hYRLswF"
      },
      "execution_count": 282,
      "outputs": []
    },
    {
      "cell_type": "code",
      "source": [
        "# Cria os vetores de labels e guesses com os valores correto e os valores\n",
        "# determinados pelo classificador\n",
        "labels = []\n",
        "guesses = []\n",
        "\n",
        "for row in test.iterrows():\n",
        "  if list(row)[1][2] == classe1:\n",
        "    labels.append(True)\n",
        "  elif list(row)[1][2] == classe2:\n",
        "    labels.append(False)\n",
        "  else:\n",
        "    continue\n",
        "\n",
        "  if estaAcimaDaReta(Ponto(list(row)[1][0], list(row)[1][1]), r_perpendicular):\n",
        "    guesses.append(classeAcima == 1)\n",
        "  else:\n",
        "    guesses.append(classeAcima == 2)"
      ],
      "metadata": {
        "id": "JIXIRCWhLswF"
      },
      "execution_count": 283,
      "outputs": []
    },
    {
      "cell_type": "code",
      "source": [
        "# Calcula as métricas de classificação\n",
        "print('Precisão:', precision_score(labels, guesses))\n",
        "print('Revocação:', recall_score(labels, guesses))\n",
        "print('f1-escore:', f1_score(labels, guesses))"
      ],
      "metadata": {
        "colab": {
          "base_uri": "https://localhost:8080/"
        },
        "outputId": "3acdf7f6-eccd-4981-b489-b914aa86bcf6",
        "id": "BbZh8qlnLzwT"
      },
      "execution_count": 284,
      "outputs": [
        {
          "output_type": "stream",
          "name": "stdout",
          "text": [
            "Precisão: 1.0\n",
            "Revocação: 1.0\n",
            "f1-escore: 1.0\n"
          ]
        }
      ]
    },
    {
      "cell_type": "markdown",
      "source": [
        "# Experimento 5 - Appendicitis data set"
      ],
      "metadata": {
        "id": "ALZH6D7HF1RQ"
      }
    },
    {
      "cell_type": "code",
      "source": [
        "# Le o arquivo com os dados\n",
        "df = pd.read_csv('/content/sample_data/pima.csv')\n",
        "# Seleciona as colunas de interesse\n",
        "df.drop(df.columns[[1,2,3,4,5,7]], axis=1, inplace=True)\n",
        "df.to_numpy()\n",
        "\n",
        "# Separa os dados de teste em proporção de 70% para o treinamento e 30% para o teste\n",
        "train, test = train_test_split(df, train_size=0.7)\n",
        "\n",
        "# Cria os objetos da classe Ponto a partir dos atributos escolhidos\n",
        "pontos1 = []\n",
        "pontos2 = []\n",
        "for row in train.iterrows():\n",
        "  if list(row)[1][2] == 'tested_positive':\n",
        "    pontos1.append(Ponto(float(list(row)[1][0]), float(list(row)[1][1])))\n",
        "  elif list(row)[1][2] == 'tested_negative':\n",
        "    pontos2.append(Ponto(float(list(row)[1][0]), float(list(row)[1][1])))"
      ],
      "metadata": {
        "id": "yVNG3RujF29z"
      },
      "execution_count": 285,
      "outputs": []
    },
    {
      "cell_type": "code",
      "source": [
        "# Encontra a envoltória convexa dos pontos da classe1 e classe2\n",
        "env1 = envoltoriaConvexa(pontos1)\n",
        "env2 = envoltoriaConvexa(pontos2)"
      ],
      "metadata": {
        "id": "940yMtN6F6Nt"
      },
      "execution_count": 286,
      "outputs": []
    },
    {
      "cell_type": "code",
      "source": [
        "# Plota as envoltórias encontradas\n",
        "plt.plot([env1[0].x, env1[len(env1)-1].x], [env1[0].y, env1[len(env1)-1].y], 'bo-', label = 'tested_positive')\n",
        "for i in range(1, len(env1)):\n",
        "  plt.plot([env1[i].x, env1[i-1].x], [env1[i].y, env1[i-1].y], 'bo-')\n",
        "\n",
        "plt.plot([env2[0].x, env2[len(env2)-1].x], [env2[0].y, env2[len(env2)-1].y], 'ro-', label = 'tested_negative')\n",
        "for i in range(1, len(env2)):\n",
        "  plt.plot([env2[i].x, env2[i-1].x], [env2[i].y, env2[i-1].y], 'ro-')\n",
        "\n",
        "plt.xlabel(\"Preg\")\n",
        "plt.ylabel(\"Pedi\")\n",
        "plt.legend()\n",
        "plt.show()"
      ],
      "metadata": {
        "colab": {
          "base_uri": "https://localhost:8080/",
          "height": 450
        },
        "id": "wBGLsuryF8c-",
        "outputId": "6cf1ff5c-1730-4f3c-f593-4e8ac502a568"
      },
      "execution_count": 287,
      "outputs": [
        {
          "output_type": "display_data",
          "data": {
            "text/plain": [
              "<Figure size 640x480 with 1 Axes>"
            ],
            "image/png": "[encoded data removed]"
          },
          "metadata": {}
        }
      ]
    },
    {
      "cell_type": "code",
      "source": [
        "# Encontra os segmentos que compoem as envoltórias convexas\n",
        "segmentos1 = segmentosDaEnvoltoria(env1)\n",
        "segmentos2 = segmentosDaEnvoltoria(env2)\n",
        "\n",
        "# Cria um array de eventos com a ordem de serem inseridos ou removidos na\n",
        "# varredura linear\n",
        "eventos = criarEventos(segmentos1, segmentos2)"
      ],
      "metadata": {
        "id": "ESnegOEcF-7u"
      },
      "execution_count": 288,
      "outputs": []
    },
    {
      "cell_type": "code",
      "source": [
        "# Verifica separabilidade linear dos dados\n",
        "if intersecaoEmConjunto(eventos):\n",
        "  print('Dados não linearmente separáveis')\n",
        "else:\n",
        "  print('Dados linearmente separáveis')"
      ],
      "metadata": {
        "colab": {
          "base_uri": "https://localhost:8080/"
        },
        "id": "jzg-hpRdGBwD",
        "outputId": "711ad99b-50db-4062-8009-f3ceda1ee639"
      },
      "execution_count": 289,
      "outputs": [
        {
          "output_type": "stream",
          "name": "stdout",
          "text": [
            "Dados não linearmente separáveis\n"
          ]
        }
      ]
    },
    {
      "cell_type": "markdown",
      "source": [
        "# Experimento 6 - South African Hearth data set"
      ],
      "metadata": {
        "id": "0zFR_SRHGDv0"
      }
    },
    {
      "cell_type": "code",
      "source": [
        "# Le o arquivo com os dados\n",
        "df = pd.read_csv('/content/sample_data/saheart.csv')\n",
        "# Seleciona as colunas de interesse\n",
        "df.drop(df.columns[[0,1,2,4,6,7,8]], axis=1, inplace=True)\n",
        "df.to_numpy()\n",
        "\n",
        "# Separa os dados de teste em proporção de 70% para o treinamento e 30% para o teste\n",
        "train, test = train_test_split(df, train_size=0.7)\n",
        "\n",
        "# Cria os objetos da classe Ponto a partir dos atributos escolhidos\n",
        "pontos1 = []\n",
        "pontos2 = []\n",
        "for row in train.iterrows():\n",
        "  if list(row)[1][2] == 1:\n",
        "    pontos1.append(Ponto(float(list(row)[1][0]), float(list(row)[1][1])))\n",
        "  elif list(row)[1][2] == 0:\n",
        "    pontos2.append(Ponto(float(list(row)[1][0]), float(list(row)[1][1])))"
      ],
      "metadata": {
        "id": "zeQ97wVgGGRY"
      },
      "execution_count": 290,
      "outputs": []
    },
    {
      "cell_type": "code",
      "source": [
        "# Encontra a envoltória convexa dos pontos da classe1 e classe2\n",
        "env1 = envoltoriaConvexa(pontos1)\n",
        "env2 = envoltoriaConvexa(pontos2)"
      ],
      "metadata": {
        "id": "k69TUOzgGJsF"
      },
      "execution_count": 291,
      "outputs": []
    },
    {
      "cell_type": "code",
      "source": [
        "# Plota as envoltórias encontradas\n",
        "plt.plot([env1[0].x, env1[len(env1)-1].x], [env1[0].y, env1[len(env1)-1].y], 'bo-', label = '1')\n",
        "for i in range(1, len(env1)):\n",
        "  plt.plot([env1[i].x, env1[i-1].x], [env1[i].y, env1[i-1].y], 'bo-')\n",
        "\n",
        "plt.plot([env2[0].x, env2[len(env2)-1].x], [env2[0].y, env2[len(env2)-1].y], 'ro-', label = '0')\n",
        "for i in range(1, len(env2)):\n",
        "  plt.plot([env2[i].x, env2[i-1].x], [env2[i].y, env2[i-1].y], 'ro-')\n",
        "\n",
        "plt.xlabel(\"Adiposity\")\n",
        "plt.ylabel(\"Typea\")\n",
        "plt.legend()\n",
        "plt.show()"
      ],
      "metadata": {
        "colab": {
          "base_uri": "https://localhost:8080/",
          "height": 450
        },
        "id": "o6lJ11qzGMA1",
        "outputId": "febf9c8a-d223-4fca-ef47-ae3fd3d6365d"
      },
      "execution_count": 292,
      "outputs": [
        {
          "output_type": "display_data",
          "data": {
            "text/plain": [
              "<Figure size 640x480 with 1 Axes>"
            ],
            "image/png": "[encoded data removed]"
          },
          "metadata": {}
        }
      ]
    },
    {
      "cell_type": "code",
      "source": [
        "# Encontra os segmentos que compoem as envoltórias convexas\n",
        "segmentos1 = segmentosDaEnvoltoria(env1)\n",
        "segmentos2 = segmentosDaEnvoltoria(env2)\n",
        "\n",
        "# Cria um array de eventos com a ordem de serem inseridos ou removidos na\n",
        "# varredura linear\n",
        "eventos = criarEventos(segmentos1, segmentos2)"
      ],
      "metadata": {
        "id": "WMpKpk5wGN3H"
      },
      "execution_count": 293,
      "outputs": []
    },
    {
      "cell_type": "code",
      "source": [
        "# Verifica separabilidade linear dos dados\n",
        "if intersecaoEmConjunto(eventos):\n",
        "  print('Dados não linearmente separáveis')\n",
        "else:\n",
        "  print('Dados linearmente separáveis')"
      ],
      "metadata": {
        "colab": {
          "base_uri": "https://localhost:8080/"
        },
        "id": "4O8MxdrRGPcE",
        "outputId": "6b517bb1-2db9-4661-90a8-9d4888fa78d5"
      },
      "execution_count": 294,
      "outputs": [
        {
          "output_type": "stream",
          "name": "stdout",
          "text": [
            "Dados não linearmente separáveis\n"
          ]
        }
      ]
    },
    {
      "cell_type": "markdown",
      "source": [
        "# Experimento 7 - MAGIC Gamma Telescope data set"
      ],
      "metadata": {
        "id": "0uh7nuouGTHF"
      }
    },
    {
      "cell_type": "code",
      "source": [
        "# Le o arquivo com os dados\n",
        "df = pd.read_csv('/content/sample_data/magic.csv')\n",
        "# Seleciona as colunas de interesse\n",
        "df.drop(df.columns[[2,3,4,5,6,7,8,9]], axis=1, inplace=True)\n",
        "df.to_numpy()\n",
        "\n",
        "# Separa os dados de teste em proporção de 70% para o treinamento e 30% para o teste\n",
        "train, test = train_test_split(df, train_size=0.7)\n",
        "\n",
        "# Cria os objetos da classe Ponto a partir dos atributos escolhidos\n",
        "pontos1 = []\n",
        "pontos2 = []\n",
        "for row in train.iterrows():\n",
        "  if list(row)[1][2] == 'g':\n",
        "    pontos1.append(Ponto(float(list(row)[1][0]), float(list(row)[1][1])))\n",
        "  elif list(row)[1][2] == 'h':\n",
        "    pontos2.append(Ponto(float(list(row)[1][0]), float(list(row)[1][1])))"
      ],
      "metadata": {
        "id": "6I11BiAPGRqZ"
      },
      "execution_count": 295,
      "outputs": []
    },
    {
      "cell_type": "code",
      "source": [
        "# Encontra a envoltória convexa dos pontos da classe1 e classe2\n",
        "env1 = envoltoriaConvexa(pontos1)\n",
        "env2 = envoltoriaConvexa(pontos2)"
      ],
      "metadata": {
        "id": "GZzSIGH6GZF7"
      },
      "execution_count": 296,
      "outputs": []
    },
    {
      "cell_type": "code",
      "source": [
        "# Plota as envoltórias encontradas\n",
        "plt.plot([env1[0].x, env1[len(env1)-1].x], [env1[0].y, env1[len(env1)-1].y], 'bo-', label = 'g')\n",
        "for i in range(1, len(env1)):\n",
        "  plt.plot([env1[i].x, env1[i-1].x], [env1[i].y, env1[i-1].y], 'bo-')\n",
        "\n",
        "plt.plot([env2[0].x, env2[len(env2)-1].x], [env2[0].y, env2[len(env2)-1].y], 'ro-', label = 'h')\n",
        "for i in range(1, len(env2)):\n",
        "  plt.plot([env2[i].x, env2[i-1].x], [env2[i].y, env2[i-1].y], 'ro-')\n",
        "\n",
        "plt.xlabel(\"FLength\")\n",
        "plt.ylabel(\"FWidth\")\n",
        "plt.legend()\n",
        "plt.show()"
      ],
      "metadata": {
        "colab": {
          "base_uri": "https://localhost:8080/",
          "height": 449
        },
        "id": "_H2aMo4tGbMl",
        "outputId": "26aabde1-3304-4817-f4dd-a337fa97bbd1"
      },
      "execution_count": 297,
      "outputs": [
        {
          "output_type": "display_data",
          "data": {
            "text/plain": [
              "<Figure size 640x480 with 1 Axes>"
            ],
            "image/png": "[encoded data removed]"
          },
          "metadata": {}
        }
      ]
    },
    {
      "cell_type": "code",
      "source": [
        "# Encontra os segmentos que compoem as envoltórias convexas\n",
        "segmentos1 = segmentosDaEnvoltoria(env1)\n",
        "segmentos2 = segmentosDaEnvoltoria(env2)\n",
        "\n",
        "# Cria um array de eventos com a ordem de serem inseridos ou removidos na\n",
        "# varredura linear\n",
        "eventos = criarEventos(segmentos1, segmentos2)"
      ],
      "metadata": {
        "id": "SO1fxEquGd9x"
      },
      "execution_count": 298,
      "outputs": []
    },
    {
      "cell_type": "code",
      "source": [
        "# Verifica separabilidade linear dos dados\n",
        "if intersecaoEmConjunto(eventos):\n",
        "  print('Dados não linearmente separáveis')\n",
        "else:\n",
        "  print('Dados linearmente separáveis')"
      ],
      "metadata": {
        "colab": {
          "base_uri": "https://localhost:8080/"
        },
        "id": "LXquS3p0GgVB",
        "outputId": "5a08bbf6-549c-4174-e7fa-19d0da1e8b87"
      },
      "execution_count": 299,
      "outputs": [
        {
          "output_type": "stream",
          "name": "stdout",
          "text": [
            "Dados não linearmente separáveis\n"
          ]
        }
      ]
    },
    {
      "cell_type": "markdown",
      "source": [
        "# Experimento 8 - Haberman's Survival data set"
      ],
      "metadata": {
        "id": "Kj-Fg7TqGiiS"
      }
    },
    {
      "cell_type": "code",
      "source": [
        "# Le o arquivo com os dados\n",
        "df = pd.read_csv('/content/sample_data/haberman.csv')\n",
        "# Seleciona as colunas de interesse\n",
        "df.drop(df.columns[[1]], axis=1, inplace=True)\n",
        "df.to_numpy()\n",
        "\n",
        "# Separa os dados de teste em proporção de 70% para o treinamento e 30% para o teste\n",
        "train, test = train_test_split(df, train_size=0.7)\n",
        "\n",
        "# Cria os objetos da classe Ponto a partir dos atributos escolhidos\n",
        "pontos1 = []\n",
        "pontos2 = []\n",
        "for row in train.iterrows():\n",
        "  if list(row)[1][2] == ' negative':\n",
        "    pontos1.append(Ponto(float(list(row)[1][0]), float(list(row)[1][1])))\n",
        "  elif list(row)[1][2] == ' positive':\n",
        "    pontos2.append(Ponto(float(list(row)[1][0]), float(list(row)[1][1])))"
      ],
      "metadata": {
        "id": "kQCsKGVoGj43"
      },
      "execution_count": 300,
      "outputs": []
    },
    {
      "cell_type": "code",
      "source": [
        "# Encontra a envoltória convexa dos pontos da classe1 e classe2\n",
        "env1 = envoltoriaConvexa(pontos1)\n",
        "env2 = envoltoriaConvexa(pontos2)"
      ],
      "metadata": {
        "id": "Nm1O7EqfGpMA"
      },
      "execution_count": 301,
      "outputs": []
    },
    {
      "cell_type": "code",
      "source": [
        "# Plota as envoltórias encontradas\n",
        "plt.plot([env1[0].x, env1[len(env1)-1].x], [env1[0].y, env1[len(env1)-1].y], 'bo-', label = 'g')\n",
        "for i in range(1, len(env1)):\n",
        "  plt.plot([env1[i].x, env1[i-1].x], [env1[i].y, env1[i-1].y], 'bo-')\n",
        "\n",
        "plt.plot([env2[0].x, env2[len(env2)-1].x], [env2[0].y, env2[len(env2)-1].y], 'ro-', label = 'h')\n",
        "for i in range(1, len(env2)):\n",
        "  plt.plot([env2[i].x, env2[i-1].x], [env2[i].y, env2[i-1].y], 'ro-')\n",
        "\n",
        "plt.xlabel(\"Age\")\n",
        "plt.ylabel(\"Positive\")\n",
        "plt.legend()\n",
        "plt.show()"
      ],
      "metadata": {
        "colab": {
          "base_uri": "https://localhost:8080/",
          "height": 449
        },
        "id": "6lQUAnSdGrGx",
        "outputId": "5c5805ec-ebfe-4eda-f94d-5f6b97b596f3"
      },
      "execution_count": 302,
      "outputs": [
        {
          "output_type": "display_data",
          "data": {
            "text/plain": [
              "<Figure size 640x480 with 1 Axes>"
            ],
            "image/png": "[encoded data removed]"
          },
          "metadata": {}
        }
      ]
    },
    {
      "cell_type": "code",
      "source": [
        "# Encontra os segmentos que compoem as envoltórias convexas\n",
        "segmentos1 = segmentosDaEnvoltoria(env1)\n",
        "segmentos2 = segmentosDaEnvoltoria(env2)\n",
        "\n",
        "# Cria um array de eventos com a ordem de serem inseridos ou removidos na\n",
        "# varredura linear\n",
        "eventos = criarEventos(segmentos1, segmentos2)"
      ],
      "metadata": {
        "id": "HMqdPOtyGtgg"
      },
      "execution_count": 303,
      "outputs": []
    },
    {
      "cell_type": "code",
      "source": [
        "# Verifica separabilidade linear dos dados\n",
        "if intersecaoEmConjunto(eventos):\n",
        "  print('Dados não linearmente separáveis')\n",
        "else:\n",
        "  print('Dados linearmente separáveis')"
      ],
      "metadata": {
        "colab": {
          "base_uri": "https://localhost:8080/"
        },
        "id": "LWw2UHr5GvXd",
        "outputId": "ecd87321-1e67-488f-dabc-7c46ecf906d9"
      },
      "execution_count": 304,
      "outputs": [
        {
          "output_type": "stream",
          "name": "stdout",
          "text": [
            "Dados não linearmente separáveis\n"
          ]
        }
      ]
    },
    {
      "cell_type": "markdown",
      "source": [
        "# Experimento 9 - Phoneme data set"
      ],
      "metadata": {
        "id": "tc8Xi1DpGxnm"
      }
    },
    {
      "cell_type": "code",
      "source": [
        "# Le o arquivo com os dados\n",
        "df = pd.read_csv('/content/sample_data/phoneme.csv')\n",
        "# Seleciona as colunas de interesse\n",
        "df.drop(df.columns[[2,3,4]], axis=1, inplace=True)\n",
        "df.to_numpy()\n",
        "\n",
        "# Separa os dados de teste em proporção de 70% para o treinamento e 30% para o teste\n",
        "train, test = train_test_split(df, train_size=0.7)\n",
        "\n",
        "# Cria os objetos da classe Ponto a partir dos atributos escolhidos\n",
        "pontos1 = []\n",
        "pontos2 = []\n",
        "for row in train.iterrows():\n",
        "  if list(row)[1][2] == 0:\n",
        "    pontos1.append(Ponto(float(list(row)[1][0]), float(list(row)[1][1])))\n",
        "  elif list(row)[1][2] == 1:\n",
        "    pontos2.append(Ponto(float(list(row)[1][0]), float(list(row)[1][1])))"
      ],
      "metadata": {
        "id": "lDdqyA_dG0qU"
      },
      "execution_count": 305,
      "outputs": []
    },
    {
      "cell_type": "code",
      "source": [
        "# Encontra a envoltória convexa dos pontos da classe1 e classe2\n",
        "env1 = envoltoriaConvexa(pontos1)\n",
        "env2 = envoltoriaConvexa(pontos2)"
      ],
      "metadata": {
        "id": "ZDESLaZFG2hb"
      },
      "execution_count": 306,
      "outputs": []
    },
    {
      "cell_type": "code",
      "source": [
        "# Plota as envoltórias encontradas\n",
        "plt.plot([env1[0].x, env1[len(env1)-1].x], [env1[0].y, env1[len(env1)-1].y], 'bo-', label = '0')\n",
        "for i in range(1, len(env1)):\n",
        "  plt.plot([env1[i].x, env1[i-1].x], [env1[i].y, env1[i-1].y], 'bo-')\n",
        "\n",
        "plt.plot([env2[0].x, env2[len(env2)-1].x], [env2[0].y, env2[len(env2)-1].y], 'ro-', label = '1')\n",
        "for i in range(1, len(env2)):\n",
        "  plt.plot([env2[i].x, env2[i-1].x], [env2[i].y, env2[i-1].y], 'ro-')\n",
        "\n",
        "plt.xlabel(\"Aa\")\n",
        "plt.ylabel(\"Ao\")\n",
        "plt.legend()\n",
        "plt.show()"
      ],
      "metadata": {
        "colab": {
          "base_uri": "https://localhost:8080/",
          "height": 449
        },
        "id": "o-t2eFrJG3JD",
        "outputId": "5735358a-6d06-4867-9b74-8f2dad539f0a"
      },
      "execution_count": 307,
      "outputs": [
        {
          "output_type": "display_data",
          "data": {
            "text/plain": [
              "<Figure size 640x480 with 1 Axes>"
            ],
            "image/png": "[encoded data removed]"
          },
          "metadata": {}
        }
      ]
    },
    {
      "cell_type": "code",
      "source": [
        "# Encontra os segmentos que compoem as envoltórias convexas\n",
        "segmentos1 = segmentosDaEnvoltoria(env1)\n",
        "segmentos2 = segmentosDaEnvoltoria(env2)\n",
        "\n",
        "# Cria um array de eventos com a ordem de serem inseridos ou removidos na\n",
        "# varredura linear\n",
        "eventos = criarEventos(segmentos1, segmentos2)"
      ],
      "metadata": {
        "id": "9Aeuoi71G7CP"
      },
      "execution_count": 308,
      "outputs": []
    },
    {
      "cell_type": "code",
      "source": [
        "# Verifica separabilidade linear dos dados\n",
        "if intersecaoEmConjunto(eventos):\n",
        "  print('Dados não linearmente separáveis')\n",
        "else:\n",
        "  print('Dados linearmente separáveis')"
      ],
      "metadata": {
        "colab": {
          "base_uri": "https://localhost:8080/"
        },
        "id": "lmbDj-SxG85k",
        "outputId": "46d3c1ac-c310-403c-bc66-e76f1d00123d"
      },
      "execution_count": 309,
      "outputs": [
        {
          "output_type": "stream",
          "name": "stdout",
          "text": [
            "Dados não linearmente separáveis\n"
          ]
        }
      ]
    },
    {
      "cell_type": "markdown",
      "source": [
        "# Experimento 10 - Liver Disorders (BUPA) data set"
      ],
      "metadata": {
        "id": "oUuinAMiG_Qg"
      }
    },
    {
      "cell_type": "code",
      "source": [
        "# Le o arquivo com os dados\n",
        "df = pd.read_csv('/content/sample_data/bupa.csv')\n",
        "# Seleciona as colunas de interesse\n",
        "df.drop(df.columns[[1,2,3,4]], axis=1, inplace=True)\n",
        "df.to_numpy()\n",
        "\n",
        "# Separa os dados de teste em proporção de 70% para o treinamento e 30% para o teste\n",
        "train, test = train_test_split(df, train_size=0.7)\n",
        "\n",
        "# Cria os objetos da classe Ponto a partir dos atributos escolhidos\n",
        "pontos1 = []\n",
        "pontos2 = []\n",
        "for row in train.iterrows():\n",
        "  if list(row)[1][2] == 1:\n",
        "    pontos1.append(Ponto(float(list(row)[1][0]), float(list(row)[1][1])))\n",
        "  elif list(row)[1][2] == 2:\n",
        "    pontos2.append(Ponto(float(list(row)[1][0]), float(list(row)[1][1])))"
      ],
      "metadata": {
        "id": "AdkUw9oMHBtc"
      },
      "execution_count": 310,
      "outputs": []
    },
    {
      "cell_type": "code",
      "source": [
        "# Encontra a envoltória convexa dos pontos da classe1 e classe2\n",
        "env1 = envoltoriaConvexa(pontos1)\n",
        "env2 = envoltoriaConvexa(pontos2)"
      ],
      "metadata": {
        "id": "MDRZd7elHDnu"
      },
      "execution_count": 311,
      "outputs": []
    },
    {
      "cell_type": "code",
      "source": [
        "# Plota as envoltórias encontradas\n",
        "plt.plot([env1[0].x, env1[len(env1)-1].x], [env1[0].y, env1[len(env1)-1].y], 'bo-', label = '1')\n",
        "for i in range(1, len(env1)):\n",
        "  plt.plot([env1[i].x, env1[i-1].x], [env1[i].y, env1[i-1].y], 'bo-')\n",
        "\n",
        "plt.plot([env2[0].x, env2[len(env2)-1].x], [env2[0].y, env2[len(env2)-1].y], 'ro-', label = '2')\n",
        "for i in range(1, len(env2)):\n",
        "  plt.plot([env2[i].x, env2[i-1].x], [env2[i].y, env2[i-1].y], 'ro-')\n",
        "\n",
        "plt.xlabel(\"Mcv\")\n",
        "plt.ylabel(\"Drinks\")\n",
        "plt.legend()\n",
        "plt.show()"
      ],
      "metadata": {
        "colab": {
          "base_uri": "https://localhost:8080/",
          "height": 449
        },
        "id": "HflpbR-0HFVz",
        "outputId": "f87a9f7d-b2c8-4e92-c20c-2c91af2c99ac"
      },
      "execution_count": 312,
      "outputs": [
        {
          "output_type": "display_data",
          "data": {
            "text/plain": [
              "<Figure size 640x480 with 1 Axes>"
            ],
            "image/png": "[encoded data removed]"
          },
          "metadata": {}
        }
      ]
    },
    {
      "cell_type": "code",
      "source": [
        "# Encontra os segmentos que compoem as envoltórias convexas\n",
        "segmentos1 = segmentosDaEnvoltoria(env1)\n",
        "segmentos2 = segmentosDaEnvoltoria(env2)\n",
        "\n",
        "# Cria um array de eventos com a ordem de serem inseridos ou removidos na\n",
        "# varredura linear\n",
        "eventos = criarEventos(segmentos1, segmentos2)"
      ],
      "metadata": {
        "id": "3vTcmX1XHHyE"
      },
      "execution_count": 313,
      "outputs": []
    },
    {
      "cell_type": "code",
      "source": [
        "# Verifica separabilidade linear dos dados\n",
        "if intersecaoEmConjunto(eventos):\n",
        "  print('Dados não linearmente separáveis')\n",
        "else:\n",
        "  print('Dados linearmente separáveis')"
      ],
      "metadata": {
        "colab": {
          "base_uri": "https://localhost:8080/"
        },
        "id": "zaRQxN6lHJT7",
        "outputId": "aaa0b5dd-3b21-44c8-8d10-b0fe8650522a"
      },
      "execution_count": 314,
      "outputs": [
        {
          "output_type": "stream",
          "name": "stdout",
          "text": [
            "Dados linearmente separáveis\n"
          ]
        }
      ]
    },
    {
      "cell_type": "markdown",
      "source": [
        "# Experimento 11 - Titanic data set"
      ],
      "metadata": {
        "id": "L764aZ3bHLXx"
      }
    },
    {
      "cell_type": "code",
      "source": [
        "# Le o arquivo com os dados\n",
        "df = pd.read_csv('/content/sample_data/titanic.csv')\n",
        "# Seleciona as colunas de interesse\n",
        "df.drop(df.columns[[2]], axis=1, inplace=True)\n",
        "df.to_numpy()\n",
        "\n",
        "# Separa os dados de teste em proporção de 70% para o treinamento e 30% para o teste\n",
        "train, test = train_test_split(df, train_size=0.7)\n",
        "\n",
        "# Cria os objetos da classe Ponto a partir dos atributos escolhidos\n",
        "pontos1 = []\n",
        "pontos2 = []\n",
        "for row in train.iterrows():\n",
        "  if list(row)[1][2] == -1:\n",
        "    pontos1.append(Ponto(float(list(row)[1][0]), float(list(row)[1][1])))\n",
        "  elif list(row)[1][2] == 1:\n",
        "    pontos2.append(Ponto(float(list(row)[1][0]), float(list(row)[1][1])))"
      ],
      "metadata": {
        "id": "4nGA9J27HNnO"
      },
      "execution_count": 315,
      "outputs": []
    },
    {
      "cell_type": "code",
      "source": [
        "# Encontra a envoltória convexa dos pontos da classe1 e classe2\n",
        "env1 = envoltoriaConvexa(pontos1)\n",
        "env2 = envoltoriaConvexa(pontos2)"
      ],
      "metadata": {
        "id": "CxxeBrRgHPtH"
      },
      "execution_count": 316,
      "outputs": []
    },
    {
      "cell_type": "code",
      "source": [
        "# Plota as envoltórias encontradas\n",
        "plt.plot([env1[0].x, env1[len(env1)-1].x], [env1[0].y, env1[len(env1)-1].y], 'bo-', label = '-1')\n",
        "for i in range(1, len(env1)):\n",
        "  plt.plot([env1[i].x, env1[i-1].x], [env1[i].y, env1[i-1].y], 'bo-')\n",
        "\n",
        "plt.plot([env2[0].x, env2[len(env2)-1].x], [env2[0].y, env2[len(env2)-1].y], 'ro-', label = '1')\n",
        "for i in range(1, len(env2)):\n",
        "  plt.plot([env2[i].x, env2[i-1].x], [env2[i].y, env2[i-1].y], 'ro-')\n",
        "\n",
        "plt.xlabel(\"Class\")\n",
        "plt.ylabel(\"Age\")\n",
        "plt.legend()\n",
        "plt.show()"
      ],
      "metadata": {
        "colab": {
          "base_uri": "https://localhost:8080/",
          "height": 449
        },
        "id": "uO9HSJj1HRZB",
        "outputId": "49ed478a-71e3-4e0d-848b-4605017ac2d2"
      },
      "execution_count": 317,
      "outputs": [
        {
          "output_type": "display_data",
          "data": {
            "text/plain": [
              "<Figure size 640x480 with 1 Axes>"
            ],
            "image/png": "[encoded data removed]"
          },
          "metadata": {}
        }
      ]
    },
    {
      "cell_type": "code",
      "source": [
        "# Encontra os segmentos que compoem as envoltórias convexas\n",
        "segmentos1 = segmentosDaEnvoltoria(env1)\n",
        "segmentos2 = segmentosDaEnvoltoria(env2)\n",
        "\n",
        "# Cria um array de eventos com a ordem de serem inseridos ou removidos na\n",
        "# varredura linear\n",
        "eventos = criarEventos(segmentos1, segmentos2)"
      ],
      "metadata": {
        "id": "otn25lqMHTJP"
      },
      "execution_count": 318,
      "outputs": []
    },
    {
      "cell_type": "code",
      "source": [
        "# Verifica separabilidade linear dos dados\n",
        "if intersecaoEmConjunto(eventos):\n",
        "  print('Dados não linearmente separáveis')\n",
        "else:\n",
        "  print('Dados linearmente separáveis')"
      ],
      "metadata": {
        "colab": {
          "base_uri": "https://localhost:8080/"
        },
        "id": "dNjpxEwdHVXf",
        "outputId": "b5c750cb-23d7-44fd-b81f-e5c92e7ac254"
      },
      "execution_count": 319,
      "outputs": [
        {
          "output_type": "stream",
          "name": "stdout",
          "text": [
            "Dados não linearmente separáveis\n"
          ]
        }
      ]
    },
    {
      "cell_type": "markdown",
      "source": [
        "# Experimento 12 - Pima Indians Diabetes data set"
      ],
      "metadata": {
        "id": "OYNTAm5CFnxQ"
      }
    },
    {
      "cell_type": "code",
      "source": [
        "# Le o arquivo com os dados\n",
        "df = pd.read_csv('/content/sample_data/pima.csv')\n",
        "# Seleciona as colunas de interesse\n",
        "df.drop(df.columns[[0,1,4,5,6,7]], axis=1, inplace=True)\n",
        "df.to_numpy()\n",
        "\n",
        "# Separa os dados de teste em proporção de 70% para o treinamento e 30% para o teste\n",
        "train, test = train_test_split(df, train_size=0.7)\n",
        "\n",
        "# Cria os objetos da classe Ponto a partir dos atributos escolhidos\n",
        "pontos1 = []\n",
        "pontos2 = []\n",
        "for row in train.iterrows():\n",
        "  if list(row)[1][2] == 'tested_positive':\n",
        "    pontos1.append(Ponto(float(list(row)[1][0]), float(list(row)[1][1])))\n",
        "  elif list(row)[1][2] == 'tested_negative':\n",
        "    pontos2.append(Ponto(float(list(row)[1][0]), float(list(row)[1][1])))"
      ],
      "metadata": {
        "id": "b348AoS4FrAR"
      },
      "execution_count": 320,
      "outputs": []
    },
    {
      "cell_type": "code",
      "source": [
        "# Encontra a envoltória convexa dos pontos da classe1 e classe2\n",
        "env1 = envoltoriaConvexa(pontos1)\n",
        "env2 = envoltoriaConvexa(pontos2)"
      ],
      "metadata": {
        "id": "CexfyRrZFtKd"
      },
      "execution_count": 321,
      "outputs": []
    },
    {
      "cell_type": "code",
      "source": [
        "# Plota as envoltórias encontradas\n",
        "plt.plot([env1[0].x, env1[len(env1)-1].x], [env1[0].y, env1[len(env1)-1].y], 'bo-', label = 'tested_positive')\n",
        "for i in range(1, len(env1)):\n",
        "  plt.plot([env1[i].x, env1[i-1].x], [env1[i].y, env1[i-1].y], 'bo-')\n",
        "\n",
        "plt.plot([env2[0].x, env2[len(env2)-1].x], [env2[0].y, env2[len(env2)-1].y], 'ro-', label = 'tested_negative')\n",
        "for i in range(1, len(env2)):\n",
        "  plt.plot([env2[i].x, env2[i-1].x], [env2[i].y, env2[i-1].y], 'ro-')\n",
        "\n",
        "plt.xlabel(\"Pres\")\n",
        "plt.ylabel(\"Skin\")\n",
        "plt.legend()\n",
        "plt.show()"
      ],
      "metadata": {
        "colab": {
          "base_uri": "https://localhost:8080/",
          "height": 449
        },
        "id": "dSNlijcKFvJd",
        "outputId": "15b6baba-87b2-4ade-e4b4-73ae66de3952"
      },
      "execution_count": 322,
      "outputs": [
        {
          "output_type": "display_data",
          "data": {
            "text/plain": [
              "<Figure size 640x480 with 1 Axes>"
            ],
            "image/png": "[encoded data removed]"
          },
          "metadata": {}
        }
      ]
    },
    {
      "cell_type": "code",
      "source": [
        "# Encontra os segmentos que compoem as envoltórias convexas\n",
        "segmentos1 = segmentosDaEnvoltoria(env1)\n",
        "segmentos2 = segmentosDaEnvoltoria(env2)\n",
        "\n",
        "# Cria um array de eventos com a ordem de serem inseridos ou removidos na\n",
        "# varredura linear\n",
        "eventos = criarEventos(segmentos1, segmentos2)"
      ],
      "metadata": {
        "id": "HlDnphx0Fw5A"
      },
      "execution_count": 323,
      "outputs": []
    },
    {
      "cell_type": "code",
      "source": [
        "# Verifica separabilidade linear dos dados\n",
        "if intersecaoEmConjunto(eventos):\n",
        "  print('Dados não linearmente separáveis')\n",
        "else:\n",
        "  print('Dados linearmente separáveis')"
      ],
      "metadata": {
        "colab": {
          "base_uri": "https://localhost:8080/"
        },
        "id": "1RGcxNHrFy1u",
        "outputId": "75631156-95a4-4085-a830-628b4a52f904"
      },
      "execution_count": 324,
      "outputs": [
        {
          "output_type": "stream",
          "name": "stdout",
          "text": [
            "Dados não linearmente separáveis\n"
          ]
        }
      ]
    }
  ]
}